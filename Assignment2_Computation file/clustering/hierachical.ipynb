{
 "cells": [
  {
   "cell_type": "markdown",
   "metadata": {},
   "source": [
    "# Hierachical"
   ]
  },
  {
   "cell_type": "code",
   "execution_count": 1,
   "metadata": {},
   "outputs": [
    {
     "data": {
      "text/plain": [
       "'c:\\\\Users\\\\PPUNN\\\\Documents\\\\gitproject\\\\stat_assignment2\\\\clustering'"
      ]
     },
     "execution_count": 1,
     "metadata": {},
     "output_type": "execute_result"
    }
   ],
   "source": [
    "import os\n",
    "#os.chdir('???')\n",
    "os.getcwd()"
   ]
  },
  {
   "cell_type": "code",
   "execution_count": 2,
   "metadata": {},
   "outputs": [],
   "source": [
    "import pandas as pd\n",
    "import numpy as np\n",
    "import matplotlib as mpl\n",
    "import matplotlib.pyplot as plt\n",
    "import seaborn as sns\n",
    "from sklearn.preprocessing import StandardScaler\n",
    "from sklearn.cluster import AgglomerativeClustering\n",
    "from scipy.cluster.hierarchy import dendrogram\n",
    "from sklearn import metrics\n",
    "%matplotlib inline\n",
    "\n",
    "mpl.font_manager.fontManager.addfont('../thsarabunnew-webfont.ttf')\n",
    "sns.set(font='TH Sarabun New')"
   ]
  },
  {
   "cell_type": "code",
   "execution_count": 4,
   "metadata": {},
   "outputs": [
    {
     "data": {
      "text/html": [
       "<div>\n",
       "<style scoped>\n",
       "    .dataframe tbody tr th:only-of-type {\n",
       "        vertical-align: middle;\n",
       "    }\n",
       "\n",
       "    .dataframe tbody tr th {\n",
       "        vertical-align: top;\n",
       "    }\n",
       "\n",
       "    .dataframe thead th {\n",
       "        text-align: right;\n",
       "    }\n",
       "</style>\n",
       "<table border=\"1\" class=\"dataframe\">\n",
       "  <thead>\n",
       "    <tr style=\"text-align: right;\">\n",
       "      <th></th>\n",
       "      <th>กระทรวง-งบรายจ่าย</th>\n",
       "      <th>งบบุคลากร</th>\n",
       "      <th>งบดําเนินงาน</th>\n",
       "      <th>งบลงทุน</th>\n",
       "      <th>งบเงินอุดหนุน</th>\n",
       "      <th>งบรายจ่ายอื่น</th>\n",
       "      <th>รวม</th>\n",
       "    </tr>\n",
       "  </thead>\n",
       "  <tbody>\n",
       "    <tr>\n",
       "      <th>0</th>\n",
       "      <td>สำนักนายกรัฐมนตรี</td>\n",
       "      <td>4104.5</td>\n",
       "      <td>3078.3</td>\n",
       "      <td>6104.3</td>\n",
       "      <td>12397.0</td>\n",
       "      <td>13606.8</td>\n",
       "      <td>39290.9</td>\n",
       "    </tr>\n",
       "    <tr>\n",
       "      <th>1</th>\n",
       "      <td>กระทรวงกลาโหม</td>\n",
       "      <td>91027.4</td>\n",
       "      <td>24102.9</td>\n",
       "      <td>14426.1</td>\n",
       "      <td>4794.4</td>\n",
       "      <td>80179.8</td>\n",
       "      <td>214530.6</td>\n",
       "    </tr>\n",
       "    <tr>\n",
       "      <th>2</th>\n",
       "      <td>กระทรวงการคลัง</td>\n",
       "      <td>12988.2</td>\n",
       "      <td>6567.9</td>\n",
       "      <td>3421.2</td>\n",
       "      <td>599.4</td>\n",
       "      <td>244863.5</td>\n",
       "      <td>268440.2</td>\n",
       "    </tr>\n",
       "    <tr>\n",
       "      <th>3</th>\n",
       "      <td>กระทรวงการต่างประเทศ</td>\n",
       "      <td>2697.3</td>\n",
       "      <td>2509.6</td>\n",
       "      <td>397.5</td>\n",
       "      <td>1348.7</td>\n",
       "      <td>1203.3</td>\n",
       "      <td>8156.4</td>\n",
       "    </tr>\n",
       "    <tr>\n",
       "      <th>4</th>\n",
       "      <td>กระทรวงการท่องเที่ยวและกีฬา</td>\n",
       "      <td>1572.6</td>\n",
       "      <td>892.1</td>\n",
       "      <td>1564.4</td>\n",
       "      <td>735.9</td>\n",
       "      <td>1327.7</td>\n",
       "      <td>6092.7</td>\n",
       "    </tr>\n",
       "    <tr>\n",
       "      <th>5</th>\n",
       "      <td>กระทรวงการพัฒนาสังคมและความมั่นคงของมนุษย์</td>\n",
       "      <td>2746.6</td>\n",
       "      <td>2519.3</td>\n",
       "      <td>397.8</td>\n",
       "      <td>16598.3</td>\n",
       "      <td>79.8</td>\n",
       "      <td>22341.8</td>\n",
       "    </tr>\n",
       "    <tr>\n",
       "      <th>6</th>\n",
       "      <td>กระทรวงการอุดมศึกษา วิทยาศาสตร์ วิจัยและนวัตกรรม</td>\n",
       "      <td>11248.4</td>\n",
       "      <td>939.9</td>\n",
       "      <td>9956.4</td>\n",
       "      <td>104384.6</td>\n",
       "      <td>1597.7</td>\n",
       "      <td>128127.0</td>\n",
       "    </tr>\n",
       "    <tr>\n",
       "      <th>7</th>\n",
       "      <td>กระทรวงเกษตรเเละสหกรณ์</td>\n",
       "      <td>24376.6</td>\n",
       "      <td>11495.8</td>\n",
       "      <td>72292.8</td>\n",
       "      <td>2001.1</td>\n",
       "      <td>564.8</td>\n",
       "      <td>110731.1</td>\n",
       "    </tr>\n",
       "    <tr>\n",
       "      <th>8</th>\n",
       "      <td>กระทรวงคมนาคม</td>\n",
       "      <td>9704.7</td>\n",
       "      <td>2436.2</td>\n",
       "      <td>177009.1</td>\n",
       "      <td>57.1</td>\n",
       "      <td>751.6</td>\n",
       "      <td>189958.7</td>\n",
       "    </tr>\n",
       "    <tr>\n",
       "      <th>9</th>\n",
       "      <td>กระทรวงดิจิทัลเพื่อเสรษฐกิจและสังคม</td>\n",
       "      <td>1311.6</td>\n",
       "      <td>2009.9</td>\n",
       "      <td>1243.4</td>\n",
       "      <td>1945.8</td>\n",
       "      <td>1791.0</td>\n",
       "      <td>8301.7</td>\n",
       "    </tr>\n",
       "    <tr>\n",
       "      <th>10</th>\n",
       "      <td>กระทรวงทรัพยากรธรรมชาติและสิ่งแวดล้อม</td>\n",
       "      <td>10992.6</td>\n",
       "      <td>5199.8</td>\n",
       "      <td>10408.8</td>\n",
       "      <td>1103.6</td>\n",
       "      <td>1630.9</td>\n",
       "      <td>29335.7</td>\n",
       "    </tr>\n",
       "    <tr>\n",
       "      <th>11</th>\n",
       "      <td>กระทรวงพลังงาน</td>\n",
       "      <td>822.0</td>\n",
       "      <td>531.2</td>\n",
       "      <td>707.8</td>\n",
       "      <td>30.7</td>\n",
       "      <td>187.5</td>\n",
       "      <td>2279.2</td>\n",
       "    </tr>\n",
       "    <tr>\n",
       "      <th>12</th>\n",
       "      <td>กระทรวงพาณิชย์</td>\n",
       "      <td>2216.4</td>\n",
       "      <td>1585.4</td>\n",
       "      <td>845.4</td>\n",
       "      <td>479.5</td>\n",
       "      <td>1698.8</td>\n",
       "      <td>6825.5</td>\n",
       "    </tr>\n",
       "    <tr>\n",
       "      <th>13</th>\n",
       "      <td>กระทรวงมหาดไทย</td>\n",
       "      <td>19360.2</td>\n",
       "      <td>12718.1</td>\n",
       "      <td>38441.4</td>\n",
       "      <td>235503.6</td>\n",
       "      <td>28464.4</td>\n",
       "      <td>334487.7</td>\n",
       "    </tr>\n",
       "    <tr>\n",
       "      <th>14</th>\n",
       "      <td>กระทรวงยุติธรรม</td>\n",
       "      <td>10363.6</td>\n",
       "      <td>8775.0</td>\n",
       "      <td>3333.1</td>\n",
       "      <td>1937.6</td>\n",
       "      <td>2418.8</td>\n",
       "      <td>26828.1</td>\n",
       "    </tr>\n",
       "    <tr>\n",
       "      <th>15</th>\n",
       "      <td>กระทรวงเเรงงาน</td>\n",
       "      <td>3671.6</td>\n",
       "      <td>1375.7</td>\n",
       "      <td>375.7</td>\n",
       "      <td>63712.9</td>\n",
       "      <td>584.4</td>\n",
       "      <td>69720.3</td>\n",
       "    </tr>\n",
       "    <tr>\n",
       "      <th>16</th>\n",
       "      <td>กระทรวงวัฒนธรรม</td>\n",
       "      <td>2321.9</td>\n",
       "      <td>1430.5</td>\n",
       "      <td>2325.4</td>\n",
       "      <td>1070.7</td>\n",
       "      <td>814.4</td>\n",
       "      <td>7962.9</td>\n",
       "    </tr>\n",
       "    <tr>\n",
       "      <th>17</th>\n",
       "      <td>กระทรวงศึกษาธิการ</td>\n",
       "      <td>223199.6</td>\n",
       "      <td>20029.5</td>\n",
       "      <td>19437.0</td>\n",
       "      <td>88628.9</td>\n",
       "      <td>5154.7</td>\n",
       "      <td>356449.7</td>\n",
       "    </tr>\n",
       "    <tr>\n",
       "      <th>18</th>\n",
       "      <td>กระทรวงสาธารณสุข</td>\n",
       "      <td>107548.0</td>\n",
       "      <td>14411.4</td>\n",
       "      <td>17025.5</td>\n",
       "      <td>6637.5</td>\n",
       "      <td>179.9</td>\n",
       "      <td>145802.3</td>\n",
       "    </tr>\n",
       "    <tr>\n",
       "      <th>19</th>\n",
       "      <td>กระทรวงอุตสาหกรรม</td>\n",
       "      <td>1635.9</td>\n",
       "      <td>603.4</td>\n",
       "      <td>745.8</td>\n",
       "      <td>157.9</td>\n",
       "      <td>1516.2</td>\n",
       "      <td>4659.2</td>\n",
       "    </tr>\n",
       "  </tbody>\n",
       "</table>\n",
       "</div>"
      ],
      "text/plain": [
       "                                   กระทรวง-งบรายจ่าย  งบบุคลากร  งบดําเนินงาน  \\\n",
       "0                                  สำนักนายกรัฐมนตรี     4104.5        3078.3   \n",
       "1                                      กระทรวงกลาโหม    91027.4       24102.9   \n",
       "2                                     กระทรวงการคลัง    12988.2        6567.9   \n",
       "3                               กระทรวงการต่างประเทศ     2697.3        2509.6   \n",
       "4                        กระทรวงการท่องเที่ยวและกีฬา     1572.6         892.1   \n",
       "5         กระทรวงการพัฒนาสังคมและความมั่นคงของมนุษย์     2746.6        2519.3   \n",
       "6   กระทรวงการอุดมศึกษา วิทยาศาสตร์ วิจัยและนวัตกรรม    11248.4         939.9   \n",
       "7                             กระทรวงเกษตรเเละสหกรณ์    24376.6       11495.8   \n",
       "8                                      กระทรวงคมนาคม     9704.7        2436.2   \n",
       "9                กระทรวงดิจิทัลเพื่อเสรษฐกิจและสังคม     1311.6        2009.9   \n",
       "10             กระทรวงทรัพยากรธรรมชาติและสิ่งแวดล้อม    10992.6        5199.8   \n",
       "11                                    กระทรวงพลังงาน      822.0         531.2   \n",
       "12                                    กระทรวงพาณิชย์     2216.4        1585.4   \n",
       "13                                    กระทรวงมหาดไทย    19360.2       12718.1   \n",
       "14                                   กระทรวงยุติธรรม    10363.6        8775.0   \n",
       "15                                    กระทรวงเเรงงาน     3671.6        1375.7   \n",
       "16                                   กระทรวงวัฒนธรรม     2321.9        1430.5   \n",
       "17                                 กระทรวงศึกษาธิการ   223199.6       20029.5   \n",
       "18                                  กระทรวงสาธารณสุข   107548.0       14411.4   \n",
       "19                                 กระทรวงอุตสาหกรรม     1635.9         603.4   \n",
       "\n",
       "     งบลงทุน  งบเงินอุดหนุน  งบรายจ่ายอื่น       รวม  \n",
       "0     6104.3        12397.0        13606.8   39290.9  \n",
       "1    14426.1         4794.4        80179.8  214530.6  \n",
       "2     3421.2          599.4       244863.5  268440.2  \n",
       "3      397.5         1348.7         1203.3    8156.4  \n",
       "4     1564.4          735.9         1327.7    6092.7  \n",
       "5      397.8        16598.3           79.8   22341.8  \n",
       "6     9956.4       104384.6         1597.7  128127.0  \n",
       "7    72292.8         2001.1          564.8  110731.1  \n",
       "8   177009.1           57.1          751.6  189958.7  \n",
       "9     1243.4         1945.8         1791.0    8301.7  \n",
       "10   10408.8         1103.6         1630.9   29335.7  \n",
       "11     707.8           30.7          187.5    2279.2  \n",
       "12     845.4          479.5         1698.8    6825.5  \n",
       "13   38441.4       235503.6        28464.4  334487.7  \n",
       "14    3333.1         1937.6         2418.8   26828.1  \n",
       "15     375.7        63712.9          584.4   69720.3  \n",
       "16    2325.4         1070.7          814.4    7962.9  \n",
       "17   19437.0        88628.9         5154.7  356449.7  \n",
       "18   17025.5         6637.5          179.9  145802.3  \n",
       "19     745.8          157.9         1516.2    4659.2  "
      ]
     },
     "execution_count": 4,
     "metadata": {},
     "output_type": "execute_result"
    }
   ],
   "source": [
    "orig_df = pd.read_csv(\"clustering_data.csv\")\n",
    "orig_df"
   ]
  },
  {
   "cell_type": "code",
   "execution_count": 5,
   "metadata": {},
   "outputs": [
    {
     "data": {
      "text/html": [
       "<div>\n",
       "<style scoped>\n",
       "    .dataframe tbody tr th:only-of-type {\n",
       "        vertical-align: middle;\n",
       "    }\n",
       "\n",
       "    .dataframe tbody tr th {\n",
       "        vertical-align: top;\n",
       "    }\n",
       "\n",
       "    .dataframe thead th {\n",
       "        text-align: right;\n",
       "    }\n",
       "</style>\n",
       "<table border=\"1\" class=\"dataframe\">\n",
       "  <thead>\n",
       "    <tr style=\"text-align: right;\">\n",
       "      <th></th>\n",
       "      <th>งบบุคลากร</th>\n",
       "      <th>งบดําเนินงาน</th>\n",
       "      <th>งบลงทุน</th>\n",
       "      <th>งบเงินอุดหนุน</th>\n",
       "      <th>งบรายจ่ายอื่น</th>\n",
       "      <th>รวม</th>\n",
       "    </tr>\n",
       "  </thead>\n",
       "  <tbody>\n",
       "    <tr>\n",
       "      <th>count</th>\n",
       "      <td>20.000000</td>\n",
       "      <td>20.000000</td>\n",
       "      <td>20.000000</td>\n",
       "      <td>20.00000</td>\n",
       "      <td>20.000000</td>\n",
       "      <td>20.000000</td>\n",
       "    </tr>\n",
       "    <tr>\n",
       "      <th>mean</th>\n",
       "      <td>27195.485000</td>\n",
       "      <td>6160.595000</td>\n",
       "      <td>19022.945000</td>\n",
       "      <td>27206.26000</td>\n",
       "      <td>19430.800000</td>\n",
       "      <td>99016.085000</td>\n",
       "    </tr>\n",
       "    <tr>\n",
       "      <th>std</th>\n",
       "      <td>54545.204505</td>\n",
       "      <td>6930.912416</td>\n",
       "      <td>41009.446754</td>\n",
       "      <td>58029.94422</td>\n",
       "      <td>56140.041536</td>\n",
       "      <td>116020.051845</td>\n",
       "    </tr>\n",
       "    <tr>\n",
       "      <th>min</th>\n",
       "      <td>822.000000</td>\n",
       "      <td>531.200000</td>\n",
       "      <td>375.700000</td>\n",
       "      <td>30.70000</td>\n",
       "      <td>79.800000</td>\n",
       "      <td>2279.200000</td>\n",
       "    </tr>\n",
       "    <tr>\n",
       "      <th>25%</th>\n",
       "      <td>2295.525000</td>\n",
       "      <td>1416.800000</td>\n",
       "      <td>820.500000</td>\n",
       "      <td>701.77500</td>\n",
       "      <td>709.800000</td>\n",
       "      <td>8108.025000</td>\n",
       "    </tr>\n",
       "    <tr>\n",
       "      <th>50%</th>\n",
       "      <td>6904.600000</td>\n",
       "      <td>2514.450000</td>\n",
       "      <td>3377.150000</td>\n",
       "      <td>1941.70000</td>\n",
       "      <td>1556.950000</td>\n",
       "      <td>34313.300000</td>\n",
       "    </tr>\n",
       "    <tr>\n",
       "      <th>75%</th>\n",
       "      <td>14581.200000</td>\n",
       "      <td>9455.200000</td>\n",
       "      <td>15075.950000</td>\n",
       "      <td>13447.32500</td>\n",
       "      <td>3102.775000</td>\n",
       "      <td>156841.400000</td>\n",
       "    </tr>\n",
       "    <tr>\n",
       "      <th>max</th>\n",
       "      <td>223199.600000</td>\n",
       "      <td>24102.900000</td>\n",
       "      <td>177009.100000</td>\n",
       "      <td>235503.60000</td>\n",
       "      <td>244863.500000</td>\n",
       "      <td>356449.700000</td>\n",
       "    </tr>\n",
       "  </tbody>\n",
       "</table>\n",
       "</div>"
      ],
      "text/plain": [
       "           งบบุคลากร  งบดําเนินงาน        งบลงทุน  งบเงินอุดหนุน  \\\n",
       "count      20.000000     20.000000      20.000000       20.00000   \n",
       "mean    27195.485000   6160.595000   19022.945000    27206.26000   \n",
       "std     54545.204505   6930.912416   41009.446754    58029.94422   \n",
       "min       822.000000    531.200000     375.700000       30.70000   \n",
       "25%      2295.525000   1416.800000     820.500000      701.77500   \n",
       "50%      6904.600000   2514.450000    3377.150000     1941.70000   \n",
       "75%     14581.200000   9455.200000   15075.950000    13447.32500   \n",
       "max    223199.600000  24102.900000  177009.100000   235503.60000   \n",
       "\n",
       "       งบรายจ่ายอื่น            รวม  \n",
       "count      20.000000      20.000000  \n",
       "mean    19430.800000   99016.085000  \n",
       "std     56140.041536  116020.051845  \n",
       "min        79.800000    2279.200000  \n",
       "25%       709.800000    8108.025000  \n",
       "50%      1556.950000   34313.300000  \n",
       "75%      3102.775000  156841.400000  \n",
       "max    244863.500000  356449.700000  "
      ]
     },
     "execution_count": 5,
     "metadata": {},
     "output_type": "execute_result"
    }
   ],
   "source": [
    "orig_df.describe()"
   ]
  },
  {
   "cell_type": "code",
   "execution_count": 6,
   "metadata": {},
   "outputs": [
    {
     "data": {
      "text/html": [
       "<div>\n",
       "<style scoped>\n",
       "    .dataframe tbody tr th:only-of-type {\n",
       "        vertical-align: middle;\n",
       "    }\n",
       "\n",
       "    .dataframe tbody tr th {\n",
       "        vertical-align: top;\n",
       "    }\n",
       "\n",
       "    .dataframe thead th {\n",
       "        text-align: right;\n",
       "    }\n",
       "</style>\n",
       "<table border=\"1\" class=\"dataframe\">\n",
       "  <thead>\n",
       "    <tr style=\"text-align: right;\">\n",
       "      <th></th>\n",
       "      <th>งบบุคลากร</th>\n",
       "      <th>งบดําเนินงาน</th>\n",
       "      <th>งบลงทุน</th>\n",
       "      <th>งบเงินอุดหนุน</th>\n",
       "      <th>งบรายจ่ายอื่น</th>\n",
       "    </tr>\n",
       "  </thead>\n",
       "  <tbody>\n",
       "    <tr>\n",
       "      <th>0</th>\n",
       "      <td>4104.5</td>\n",
       "      <td>3078.3</td>\n",
       "      <td>6104.3</td>\n",
       "      <td>12397.0</td>\n",
       "      <td>13606.8</td>\n",
       "    </tr>\n",
       "    <tr>\n",
       "      <th>1</th>\n",
       "      <td>91027.4</td>\n",
       "      <td>24102.9</td>\n",
       "      <td>14426.1</td>\n",
       "      <td>4794.4</td>\n",
       "      <td>80179.8</td>\n",
       "    </tr>\n",
       "    <tr>\n",
       "      <th>2</th>\n",
       "      <td>12988.2</td>\n",
       "      <td>6567.9</td>\n",
       "      <td>3421.2</td>\n",
       "      <td>599.4</td>\n",
       "      <td>244863.5</td>\n",
       "    </tr>\n",
       "    <tr>\n",
       "      <th>3</th>\n",
       "      <td>2697.3</td>\n",
       "      <td>2509.6</td>\n",
       "      <td>397.5</td>\n",
       "      <td>1348.7</td>\n",
       "      <td>1203.3</td>\n",
       "    </tr>\n",
       "    <tr>\n",
       "      <th>4</th>\n",
       "      <td>1572.6</td>\n",
       "      <td>892.1</td>\n",
       "      <td>1564.4</td>\n",
       "      <td>735.9</td>\n",
       "      <td>1327.7</td>\n",
       "    </tr>\n",
       "    <tr>\n",
       "      <th>5</th>\n",
       "      <td>2746.6</td>\n",
       "      <td>2519.3</td>\n",
       "      <td>397.8</td>\n",
       "      <td>16598.3</td>\n",
       "      <td>79.8</td>\n",
       "    </tr>\n",
       "    <tr>\n",
       "      <th>6</th>\n",
       "      <td>11248.4</td>\n",
       "      <td>939.9</td>\n",
       "      <td>9956.4</td>\n",
       "      <td>104384.6</td>\n",
       "      <td>1597.7</td>\n",
       "    </tr>\n",
       "    <tr>\n",
       "      <th>7</th>\n",
       "      <td>24376.6</td>\n",
       "      <td>11495.8</td>\n",
       "      <td>72292.8</td>\n",
       "      <td>2001.1</td>\n",
       "      <td>564.8</td>\n",
       "    </tr>\n",
       "    <tr>\n",
       "      <th>8</th>\n",
       "      <td>9704.7</td>\n",
       "      <td>2436.2</td>\n",
       "      <td>177009.1</td>\n",
       "      <td>57.1</td>\n",
       "      <td>751.6</td>\n",
       "    </tr>\n",
       "    <tr>\n",
       "      <th>9</th>\n",
       "      <td>1311.6</td>\n",
       "      <td>2009.9</td>\n",
       "      <td>1243.4</td>\n",
       "      <td>1945.8</td>\n",
       "      <td>1791.0</td>\n",
       "    </tr>\n",
       "    <tr>\n",
       "      <th>10</th>\n",
       "      <td>10992.6</td>\n",
       "      <td>5199.8</td>\n",
       "      <td>10408.8</td>\n",
       "      <td>1103.6</td>\n",
       "      <td>1630.9</td>\n",
       "    </tr>\n",
       "    <tr>\n",
       "      <th>11</th>\n",
       "      <td>822.0</td>\n",
       "      <td>531.2</td>\n",
       "      <td>707.8</td>\n",
       "      <td>30.7</td>\n",
       "      <td>187.5</td>\n",
       "    </tr>\n",
       "    <tr>\n",
       "      <th>12</th>\n",
       "      <td>2216.4</td>\n",
       "      <td>1585.4</td>\n",
       "      <td>845.4</td>\n",
       "      <td>479.5</td>\n",
       "      <td>1698.8</td>\n",
       "    </tr>\n",
       "    <tr>\n",
       "      <th>13</th>\n",
       "      <td>19360.2</td>\n",
       "      <td>12718.1</td>\n",
       "      <td>38441.4</td>\n",
       "      <td>235503.6</td>\n",
       "      <td>28464.4</td>\n",
       "    </tr>\n",
       "    <tr>\n",
       "      <th>14</th>\n",
       "      <td>10363.6</td>\n",
       "      <td>8775.0</td>\n",
       "      <td>3333.1</td>\n",
       "      <td>1937.6</td>\n",
       "      <td>2418.8</td>\n",
       "    </tr>\n",
       "    <tr>\n",
       "      <th>15</th>\n",
       "      <td>3671.6</td>\n",
       "      <td>1375.7</td>\n",
       "      <td>375.7</td>\n",
       "      <td>63712.9</td>\n",
       "      <td>584.4</td>\n",
       "    </tr>\n",
       "    <tr>\n",
       "      <th>16</th>\n",
       "      <td>2321.9</td>\n",
       "      <td>1430.5</td>\n",
       "      <td>2325.4</td>\n",
       "      <td>1070.7</td>\n",
       "      <td>814.4</td>\n",
       "    </tr>\n",
       "    <tr>\n",
       "      <th>17</th>\n",
       "      <td>223199.6</td>\n",
       "      <td>20029.5</td>\n",
       "      <td>19437.0</td>\n",
       "      <td>88628.9</td>\n",
       "      <td>5154.7</td>\n",
       "    </tr>\n",
       "    <tr>\n",
       "      <th>18</th>\n",
       "      <td>107548.0</td>\n",
       "      <td>14411.4</td>\n",
       "      <td>17025.5</td>\n",
       "      <td>6637.5</td>\n",
       "      <td>179.9</td>\n",
       "    </tr>\n",
       "    <tr>\n",
       "      <th>19</th>\n",
       "      <td>1635.9</td>\n",
       "      <td>603.4</td>\n",
       "      <td>745.8</td>\n",
       "      <td>157.9</td>\n",
       "      <td>1516.2</td>\n",
       "    </tr>\n",
       "  </tbody>\n",
       "</table>\n",
       "</div>"
      ],
      "text/plain": [
       "    งบบุคลากร  งบดําเนินงาน   งบลงทุน  งบเงินอุดหนุน  งบรายจ่ายอื่น\n",
       "0      4104.5        3078.3    6104.3        12397.0        13606.8\n",
       "1     91027.4       24102.9   14426.1         4794.4        80179.8\n",
       "2     12988.2        6567.9    3421.2          599.4       244863.5\n",
       "3      2697.3        2509.6     397.5         1348.7         1203.3\n",
       "4      1572.6         892.1    1564.4          735.9         1327.7\n",
       "5      2746.6        2519.3     397.8        16598.3           79.8\n",
       "6     11248.4         939.9    9956.4       104384.6         1597.7\n",
       "7     24376.6       11495.8   72292.8         2001.1          564.8\n",
       "8      9704.7        2436.2  177009.1           57.1          751.6\n",
       "9      1311.6        2009.9    1243.4         1945.8         1791.0\n",
       "10    10992.6        5199.8   10408.8         1103.6         1630.9\n",
       "11      822.0         531.2     707.8           30.7          187.5\n",
       "12     2216.4        1585.4     845.4          479.5         1698.8\n",
       "13    19360.2       12718.1   38441.4       235503.6        28464.4\n",
       "14    10363.6        8775.0    3333.1         1937.6         2418.8\n",
       "15     3671.6        1375.7     375.7        63712.9          584.4\n",
       "16     2321.9        1430.5    2325.4         1070.7          814.4\n",
       "17   223199.6       20029.5   19437.0        88628.9         5154.7\n",
       "18   107548.0       14411.4   17025.5         6637.5          179.9\n",
       "19     1635.9         603.4     745.8          157.9         1516.2"
      ]
     },
     "execution_count": 6,
     "metadata": {},
     "output_type": "execute_result"
    }
   ],
   "source": [
    "df = orig_df[['งบบุคลากร','งบดําเนินงาน','งบลงทุน', 'งบเงินอุดหนุน','งบรายจ่ายอื่น']]\n",
    "df"
   ]
  },
  {
   "cell_type": "code",
   "execution_count": 7,
   "metadata": {},
   "outputs": [
    {
     "data": {
      "text/html": [
       "<div>\n",
       "<style scoped>\n",
       "    .dataframe tbody tr th:only-of-type {\n",
       "        vertical-align: middle;\n",
       "    }\n",
       "\n",
       "    .dataframe tbody tr th {\n",
       "        vertical-align: top;\n",
       "    }\n",
       "\n",
       "    .dataframe thead th {\n",
       "        text-align: right;\n",
       "    }\n",
       "</style>\n",
       "<table border=\"1\" class=\"dataframe\">\n",
       "  <thead>\n",
       "    <tr style=\"text-align: right;\">\n",
       "      <th></th>\n",
       "      <th>0</th>\n",
       "      <th>1</th>\n",
       "      <th>2</th>\n",
       "      <th>3</th>\n",
       "      <th>4</th>\n",
       "    </tr>\n",
       "  </thead>\n",
       "  <tbody>\n",
       "    <tr>\n",
       "      <th>0</th>\n",
       "      <td>-0.434334</td>\n",
       "      <td>-0.456270</td>\n",
       "      <td>-0.323200</td>\n",
       "      <td>-0.261830</td>\n",
       "      <td>-0.106436</td>\n",
       "    </tr>\n",
       "    <tr>\n",
       "      <th>1</th>\n",
       "      <td>1.200658</td>\n",
       "      <td>2.655987</td>\n",
       "      <td>-0.115004</td>\n",
       "      <td>-0.396245</td>\n",
       "      <td>1.110209</td>\n",
       "    </tr>\n",
       "    <tr>\n",
       "      <th>2</th>\n",
       "      <td>-0.267235</td>\n",
       "      <td>0.060293</td>\n",
       "      <td>-0.390326</td>\n",
       "      <td>-0.470413</td>\n",
       "      <td>4.119859</td>\n",
       "    </tr>\n",
       "    <tr>\n",
       "      <th>3</th>\n",
       "      <td>-0.460803</td>\n",
       "      <td>-0.540454</td>\n",
       "      <td>-0.465973</td>\n",
       "      <td>-0.457166</td>\n",
       "      <td>-0.333114</td>\n",
       "    </tr>\n",
       "    <tr>\n",
       "      <th>4</th>\n",
       "      <td>-0.481959</td>\n",
       "      <td>-0.779892</td>\n",
       "      <td>-0.436780</td>\n",
       "      <td>-0.468000</td>\n",
       "      <td>-0.330840</td>\n",
       "    </tr>\n",
       "  </tbody>\n",
       "</table>\n",
       "</div>"
      ],
      "text/plain": [
       "          0         1         2         3         4\n",
       "0 -0.434334 -0.456270 -0.323200 -0.261830 -0.106436\n",
       "1  1.200658  2.655987 -0.115004 -0.396245  1.110209\n",
       "2 -0.267235  0.060293 -0.390326 -0.470413  4.119859\n",
       "3 -0.460803 -0.540454 -0.465973 -0.457166 -0.333114\n",
       "4 -0.481959 -0.779892 -0.436780 -0.468000 -0.330840"
      ]
     },
     "execution_count": 7,
     "metadata": {},
     "output_type": "execute_result"
    }
   ],
   "source": [
    "scaler = StandardScaler()\n",
    "array_normalized = scaler.fit_transform(df)\n",
    "df_normalized = pd.DataFrame(array_normalized)\n",
    "df_normalized.head()"
   ]
  },
  {
   "cell_type": "code",
   "execution_count": 8,
   "metadata": {},
   "outputs": [],
   "source": [
    "# Set up parameter values\n",
    "linkage_val = 'average'  # 'others are 'complete', 'single', 'ward'\n",
    "dist_threshold_val = 0   # Set to be zero to plot dendrogram\n",
    "nclusters_val = None     # if distance_threshold is 0, this must be None"
   ]
  },
  {
   "cell_type": "code",
   "execution_count": 9,
   "metadata": {},
   "outputs": [
    {
     "data": {
      "text/plain": [
       "AgglomerativeClustering(distance_threshold=0, linkage='average',\n",
       "                        n_clusters=None)"
      ]
     },
     "execution_count": 9,
     "metadata": {},
     "output_type": "execute_result"
    }
   ],
   "source": [
    "model=AgglomerativeClustering(linkage=linkage_val,n_clusters=nclusters_val,distance_threshold=dist_threshold_val)\n",
    "model=model.fit(df_normalized)\n",
    "model"
   ]
  },
  {
   "cell_type": "code",
   "execution_count": 10,
   "metadata": {},
   "outputs": [],
   "source": [
    "def plot_dendrogram(model, **kwargs):\n",
    "    # Create linkage matrix and then plot the dendrogram\n",
    "\n",
    "    # create the counts of samples under each node\n",
    "    counts = np.zeros(model.children_.shape[0])\n",
    "    n_samples = len(model.labels_)\n",
    "    for i, merge in enumerate(model.children_):\n",
    "        current_count = 0\n",
    "        for child_idx in merge:\n",
    "            if child_idx < n_samples:\n",
    "                current_count += 1  # leaf node\n",
    "            else:\n",
    "                current_count += counts[child_idx - n_samples]\n",
    "        counts[i] = current_count\n",
    "\n",
    "    linkage_matrix = np.column_stack([model.children_, model.distances_,\n",
    "                                      counts]).astype(float)\n",
    "\n",
    "    # Plot the corresponding dendrogram\n",
    "    dendrogram(linkage_matrix, **kwargs)"
   ]
  },
  {
   "cell_type": "code",
   "execution_count": 15,
   "metadata": {},
   "outputs": [
    {
     "data": {
      "image/png": "[encoded data removed]",
      "text/plain": [
       "<Figure size 432x288 with 1 Axes>"
      ]
     },
     "metadata": {},
     "output_type": "display_data"
    }
   ],
   "source": [
    "plot_dendrogram(model, truncate_mode='level', p=10)"
   ]
  },
  {
   "cell_type": "code",
   "execution_count": 16,
   "metadata": {},
   "outputs": [
    {
     "data": {
      "image/png": "[encoded data removed]",
      "text/plain": [
       "<Figure size 432x288 with 1 Axes>"
      ]
     },
     "metadata": {},
     "output_type": "display_data"
    }
   ],
   "source": [
    "plot_dendrogram(model, truncate_mode='level', p=9)"
   ]
  },
  {
   "cell_type": "code",
   "execution_count": 17,
   "metadata": {},
   "outputs": [
    {
     "data": {
      "image/png": "[encoded data removed]",
      "text/plain": [
       "<Figure size 432x288 with 1 Axes>"
      ]
     },
     "metadata": {},
     "output_type": "display_data"
    }
   ],
   "source": [
    "plot_dendrogram(model, truncate_mode='level', p=5)"
   ]
  },
  {
   "cell_type": "code",
   "execution_count": 18,
   "metadata": {},
   "outputs": [
    {
     "data": {
      "image/png": "[encoded data removed]",
      "text/plain": [
       "<Figure size 432x288 with 1 Axes>"
      ]
     },
     "metadata": {},
     "output_type": "display_data"
    }
   ],
   "source": [
    "plot_dendrogram(model, truncate_mode='level', p=6)"
   ]
  },
  {
   "cell_type": "code",
   "execution_count": 19,
   "metadata": {},
   "outputs": [
    {
     "data": {
      "image/png": "[encoded data removed]",
      "text/plain": [
       "<Figure size 432x288 with 1 Axes>"
      ]
     },
     "metadata": {},
     "output_type": "display_data"
    }
   ],
   "source": [
    "plot_dendrogram(model, truncate_mode='level', p=7)"
   ]
  },
  {
   "cell_type": "markdown",
   "metadata": {},
   "source": [
    "ขอเลือก p เป็น 7 \n",
    "และ ขอเลือก dist_threshold_val เป็น 2 เพราะมีการแบ่งที่ไม่มากไป หรือน้อยจนเกินไป"
   ]
  },
  {
   "cell_type": "code",
   "execution_count": 20,
   "metadata": {},
   "outputs": [],
   "source": [
    "dist_threshold_val = 2\n",
    "nclusters_val = None"
   ]
  },
  {
   "cell_type": "code",
   "execution_count": 21,
   "metadata": {},
   "outputs": [
    {
     "data": {
      "text/plain": [
       "AgglomerativeClustering(distance_threshold=2, linkage='average',\n",
       "                        n_clusters=None)"
      ]
     },
     "execution_count": 21,
     "metadata": {},
     "output_type": "execute_result"
    }
   ],
   "source": [
    "model=AgglomerativeClustering(linkage=linkage_val,n_clusters=nclusters_val,distance_threshold=dist_threshold_val)\n",
    "model=model.fit(df_normalized)\n",
    "model"
   ]
  },
  {
   "cell_type": "code",
   "execution_count": 22,
   "metadata": {},
   "outputs": [
    {
     "data": {
      "text/plain": [
       "array([0, 7, 3, 0, 0, 0, 0, 6, 5, 0, 0, 0, 0, 4, 0, 0, 0, 2, 1, 0],\n",
       "      dtype=int64)"
      ]
     },
     "execution_count": 22,
     "metadata": {},
     "output_type": "execute_result"
    }
   ],
   "source": [
    "labels = model.labels_\n",
    "labels"
   ]
  },
  {
   "cell_type": "code",
   "execution_count": 23,
   "metadata": {},
   "outputs": [
    {
     "name": "stderr",
     "output_type": "stream",
     "text": [
      "C:\\Users\\PPUNN\\AppData\\Local\\Temp/ipykernel_20424/2879177908.py:2: SettingWithCopyWarning: \n",
      "A value is trying to be set on a copy of a slice from a DataFrame.\n",
      "Try using .loc[row_indexer,col_indexer] = value instead\n",
      "\n",
      "See the caveats in the documentation: https://pandas.pydata.org/pandas-docs/stable/user_guide/indexing.html#returning-a-view-versus-a-copy\n",
      "  df['cluster_id'] = cluster_predictions\n"
     ]
    },
    {
     "data": {
      "text/html": [
       "<div>\n",
       "<style scoped>\n",
       "    .dataframe tbody tr th:only-of-type {\n",
       "        vertical-align: middle;\n",
       "    }\n",
       "\n",
       "    .dataframe tbody tr th {\n",
       "        vertical-align: top;\n",
       "    }\n",
       "\n",
       "    .dataframe thead th {\n",
       "        text-align: right;\n",
       "    }\n",
       "</style>\n",
       "<table border=\"1\" class=\"dataframe\">\n",
       "  <thead>\n",
       "    <tr style=\"text-align: right;\">\n",
       "      <th></th>\n",
       "      <th>งบบุคลากร</th>\n",
       "      <th>งบดําเนินงาน</th>\n",
       "      <th>งบลงทุน</th>\n",
       "      <th>งบเงินอุดหนุน</th>\n",
       "      <th>งบรายจ่ายอื่น</th>\n",
       "      <th>cluster_id</th>\n",
       "    </tr>\n",
       "  </thead>\n",
       "  <tbody>\n",
       "    <tr>\n",
       "      <th>0</th>\n",
       "      <td>4104.5</td>\n",
       "      <td>3078.3</td>\n",
       "      <td>6104.3</td>\n",
       "      <td>12397.0</td>\n",
       "      <td>13606.8</td>\n",
       "      <td>0</td>\n",
       "    </tr>\n",
       "    <tr>\n",
       "      <th>1</th>\n",
       "      <td>91027.4</td>\n",
       "      <td>24102.9</td>\n",
       "      <td>14426.1</td>\n",
       "      <td>4794.4</td>\n",
       "      <td>80179.8</td>\n",
       "      <td>7</td>\n",
       "    </tr>\n",
       "    <tr>\n",
       "      <th>2</th>\n",
       "      <td>12988.2</td>\n",
       "      <td>6567.9</td>\n",
       "      <td>3421.2</td>\n",
       "      <td>599.4</td>\n",
       "      <td>244863.5</td>\n",
       "      <td>3</td>\n",
       "    </tr>\n",
       "    <tr>\n",
       "      <th>3</th>\n",
       "      <td>2697.3</td>\n",
       "      <td>2509.6</td>\n",
       "      <td>397.5</td>\n",
       "      <td>1348.7</td>\n",
       "      <td>1203.3</td>\n",
       "      <td>0</td>\n",
       "    </tr>\n",
       "    <tr>\n",
       "      <th>4</th>\n",
       "      <td>1572.6</td>\n",
       "      <td>892.1</td>\n",
       "      <td>1564.4</td>\n",
       "      <td>735.9</td>\n",
       "      <td>1327.7</td>\n",
       "      <td>0</td>\n",
       "    </tr>\n",
       "    <tr>\n",
       "      <th>5</th>\n",
       "      <td>2746.6</td>\n",
       "      <td>2519.3</td>\n",
       "      <td>397.8</td>\n",
       "      <td>16598.3</td>\n",
       "      <td>79.8</td>\n",
       "      <td>0</td>\n",
       "    </tr>\n",
       "    <tr>\n",
       "      <th>6</th>\n",
       "      <td>11248.4</td>\n",
       "      <td>939.9</td>\n",
       "      <td>9956.4</td>\n",
       "      <td>104384.6</td>\n",
       "      <td>1597.7</td>\n",
       "      <td>0</td>\n",
       "    </tr>\n",
       "    <tr>\n",
       "      <th>7</th>\n",
       "      <td>24376.6</td>\n",
       "      <td>11495.8</td>\n",
       "      <td>72292.8</td>\n",
       "      <td>2001.1</td>\n",
       "      <td>564.8</td>\n",
       "      <td>6</td>\n",
       "    </tr>\n",
       "    <tr>\n",
       "      <th>8</th>\n",
       "      <td>9704.7</td>\n",
       "      <td>2436.2</td>\n",
       "      <td>177009.1</td>\n",
       "      <td>57.1</td>\n",
       "      <td>751.6</td>\n",
       "      <td>5</td>\n",
       "    </tr>\n",
       "    <tr>\n",
       "      <th>9</th>\n",
       "      <td>1311.6</td>\n",
       "      <td>2009.9</td>\n",
       "      <td>1243.4</td>\n",
       "      <td>1945.8</td>\n",
       "      <td>1791.0</td>\n",
       "      <td>0</td>\n",
       "    </tr>\n",
       "    <tr>\n",
       "      <th>10</th>\n",
       "      <td>10992.6</td>\n",
       "      <td>5199.8</td>\n",
       "      <td>10408.8</td>\n",
       "      <td>1103.6</td>\n",
       "      <td>1630.9</td>\n",
       "      <td>0</td>\n",
       "    </tr>\n",
       "    <tr>\n",
       "      <th>11</th>\n",
       "      <td>822.0</td>\n",
       "      <td>531.2</td>\n",
       "      <td>707.8</td>\n",
       "      <td>30.7</td>\n",
       "      <td>187.5</td>\n",
       "      <td>0</td>\n",
       "    </tr>\n",
       "    <tr>\n",
       "      <th>12</th>\n",
       "      <td>2216.4</td>\n",
       "      <td>1585.4</td>\n",
       "      <td>845.4</td>\n",
       "      <td>479.5</td>\n",
       "      <td>1698.8</td>\n",
       "      <td>0</td>\n",
       "    </tr>\n",
       "    <tr>\n",
       "      <th>13</th>\n",
       "      <td>19360.2</td>\n",
       "      <td>12718.1</td>\n",
       "      <td>38441.4</td>\n",
       "      <td>235503.6</td>\n",
       "      <td>28464.4</td>\n",
       "      <td>4</td>\n",
       "    </tr>\n",
       "    <tr>\n",
       "      <th>14</th>\n",
       "      <td>10363.6</td>\n",
       "      <td>8775.0</td>\n",
       "      <td>3333.1</td>\n",
       "      <td>1937.6</td>\n",
       "      <td>2418.8</td>\n",
       "      <td>0</td>\n",
       "    </tr>\n",
       "    <tr>\n",
       "      <th>15</th>\n",
       "      <td>3671.6</td>\n",
       "      <td>1375.7</td>\n",
       "      <td>375.7</td>\n",
       "      <td>63712.9</td>\n",
       "      <td>584.4</td>\n",
       "      <td>0</td>\n",
       "    </tr>\n",
       "    <tr>\n",
       "      <th>16</th>\n",
       "      <td>2321.9</td>\n",
       "      <td>1430.5</td>\n",
       "      <td>2325.4</td>\n",
       "      <td>1070.7</td>\n",
       "      <td>814.4</td>\n",
       "      <td>0</td>\n",
       "    </tr>\n",
       "    <tr>\n",
       "      <th>17</th>\n",
       "      <td>223199.6</td>\n",
       "      <td>20029.5</td>\n",
       "      <td>19437.0</td>\n",
       "      <td>88628.9</td>\n",
       "      <td>5154.7</td>\n",
       "      <td>2</td>\n",
       "    </tr>\n",
       "    <tr>\n",
       "      <th>18</th>\n",
       "      <td>107548.0</td>\n",
       "      <td>14411.4</td>\n",
       "      <td>17025.5</td>\n",
       "      <td>6637.5</td>\n",
       "      <td>179.9</td>\n",
       "      <td>1</td>\n",
       "    </tr>\n",
       "    <tr>\n",
       "      <th>19</th>\n",
       "      <td>1635.9</td>\n",
       "      <td>603.4</td>\n",
       "      <td>745.8</td>\n",
       "      <td>157.9</td>\n",
       "      <td>1516.2</td>\n",
       "      <td>0</td>\n",
       "    </tr>\n",
       "  </tbody>\n",
       "</table>\n",
       "</div>"
      ],
      "text/plain": [
       "    งบบุคลากร  งบดําเนินงาน   งบลงทุน  งบเงินอุดหนุน  งบรายจ่ายอื่น  \\\n",
       "0      4104.5        3078.3    6104.3        12397.0        13606.8   \n",
       "1     91027.4       24102.9   14426.1         4794.4        80179.8   \n",
       "2     12988.2        6567.9    3421.2          599.4       244863.5   \n",
       "3      2697.3        2509.6     397.5         1348.7         1203.3   \n",
       "4      1572.6         892.1    1564.4          735.9         1327.7   \n",
       "5      2746.6        2519.3     397.8        16598.3           79.8   \n",
       "6     11248.4         939.9    9956.4       104384.6         1597.7   \n",
       "7     24376.6       11495.8   72292.8         2001.1          564.8   \n",
       "8      9704.7        2436.2  177009.1           57.1          751.6   \n",
       "9      1311.6        2009.9    1243.4         1945.8         1791.0   \n",
       "10    10992.6        5199.8   10408.8         1103.6         1630.9   \n",
       "11      822.0         531.2     707.8           30.7          187.5   \n",
       "12     2216.4        1585.4     845.4          479.5         1698.8   \n",
       "13    19360.2       12718.1   38441.4       235503.6        28464.4   \n",
       "14    10363.6        8775.0    3333.1         1937.6         2418.8   \n",
       "15     3671.6        1375.7     375.7        63712.9          584.4   \n",
       "16     2321.9        1430.5    2325.4         1070.7          814.4   \n",
       "17   223199.6       20029.5   19437.0        88628.9         5154.7   \n",
       "18   107548.0       14411.4   17025.5         6637.5          179.9   \n",
       "19     1635.9         603.4     745.8          157.9         1516.2   \n",
       "\n",
       "    cluster_id  \n",
       "0            0  \n",
       "1            7  \n",
       "2            3  \n",
       "3            0  \n",
       "4            0  \n",
       "5            0  \n",
       "6            0  \n",
       "7            6  \n",
       "8            5  \n",
       "9            0  \n",
       "10           0  \n",
       "11           0  \n",
       "12           0  \n",
       "13           4  \n",
       "14           0  \n",
       "15           0  \n",
       "16           0  \n",
       "17           2  \n",
       "18           1  \n",
       "19           0  "
      ]
     },
     "execution_count": 23,
     "metadata": {},
     "output_type": "execute_result"
    }
   ],
   "source": [
    "cluster_predictions = model.fit_predict(df_normalized)\n",
    "df['cluster_id'] = cluster_predictions\n",
    "df"
   ]
  },
  {
   "cell_type": "markdown",
   "metadata": {},
   "source": [
    "## Silhouette_score\n",
    "ยิ่งใกล้ 1 ยิ่งน่าเชื่อถือ"
   ]
  },
  {
   "cell_type": "code",
   "execution_count": 24,
   "metadata": {},
   "outputs": [
    {
     "name": "stdout",
     "output_type": "stream",
     "text": [
      "0.4147178198095811\n"
     ]
    }
   ],
   "source": [
    "print(metrics.silhouette_score(df,labels))"
   ]
  },
  {
   "cell_type": "markdown",
   "metadata": {},
   "source": [
    "## Davies_bouldin_score\n",
    "ยิ่งใกล้ 0 ยิ่งน่าเชื่อถือ"
   ]
  },
  {
   "cell_type": "code",
   "execution_count": 25,
   "metadata": {},
   "outputs": [
    {
     "name": "stdout",
     "output_type": "stream",
     "text": [
      "0.18039466082109623\n"
     ]
    }
   ],
   "source": [
    "print(metrics.davies_bouldin_score(df,model.labels_))"
   ]
  },
  {
   "cell_type": "code",
   "execution_count": 26,
   "metadata": {},
   "outputs": [
    {
     "data": {
      "text/plain": [
       "0    13\n",
       "7     1\n",
       "3     1\n",
       "6     1\n",
       "5     1\n",
       "4     1\n",
       "2     1\n",
       "1     1\n",
       "Name: cluster_id, dtype: int64"
      ]
     },
     "execution_count": 26,
     "metadata": {},
     "output_type": "execute_result"
    }
   ],
   "source": [
    "df.cluster_id.value_counts()"
   ]
  },
  {
   "cell_type": "markdown",
   "metadata": {},
   "source": [
    "## 8 Clusters"
   ]
  },
  {
   "cell_type": "code",
   "execution_count": null,
   "metadata": {},
   "outputs": [],
   "source": []
  },
  {
   "cell_type": "markdown",
   "metadata": {},
   "source": [
    "#### Cluster 0"
   ]
  },
  {
   "cell_type": "code",
   "execution_count": 38,
   "metadata": {},
   "outputs": [
    {
     "data": {
      "text/plain": [
       "งบบุคลากร         4285.000000\n",
       "งบดําเนินงาน      2419.238462\n",
       "งบลงทุน           2954.292308\n",
       "งบเงินอุดหนุน    15838.707692\n",
       "งบรายจ่ายอื่น     2189.023077\n",
       "cluster_id           0.000000\n",
       "dtype: float64"
      ]
     },
     "execution_count": 38,
     "metadata": {},
     "output_type": "execute_result"
    }
   ],
   "source": [
    "df[df.cluster_id==0].mean()"
   ]
  },
  {
   "cell_type": "code",
   "execution_count": 39,
   "metadata": {},
   "outputs": [
    {
     "data": {
      "text/html": [
       "<div>\n",
       "<style scoped>\n",
       "    .dataframe tbody tr th:only-of-type {\n",
       "        vertical-align: middle;\n",
       "    }\n",
       "\n",
       "    .dataframe tbody tr th {\n",
       "        vertical-align: top;\n",
       "    }\n",
       "\n",
       "    .dataframe thead th {\n",
       "        text-align: right;\n",
       "    }\n",
       "</style>\n",
       "<table border=\"1\" class=\"dataframe\">\n",
       "  <thead>\n",
       "    <tr style=\"text-align: right;\">\n",
       "      <th></th>\n",
       "      <th>กระทรวง-งบรายจ่าย</th>\n",
       "      <th>งบบุคลากร</th>\n",
       "      <th>งบดําเนินงาน</th>\n",
       "      <th>งบลงทุน</th>\n",
       "      <th>งบเงินอุดหนุน</th>\n",
       "      <th>งบรายจ่ายอื่น</th>\n",
       "      <th>รวม</th>\n",
       "    </tr>\n",
       "  </thead>\n",
       "  <tbody>\n",
       "    <tr>\n",
       "      <th>0</th>\n",
       "      <td>สำนักนายกรัฐมนตรี</td>\n",
       "      <td>4104.5</td>\n",
       "      <td>3078.3</td>\n",
       "      <td>6104.3</td>\n",
       "      <td>12397.0</td>\n",
       "      <td>13606.8</td>\n",
       "      <td>39290.9</td>\n",
       "    </tr>\n",
       "    <tr>\n",
       "      <th>3</th>\n",
       "      <td>กระทรวงการต่างประเทศ</td>\n",
       "      <td>2697.3</td>\n",
       "      <td>2509.6</td>\n",
       "      <td>397.5</td>\n",
       "      <td>1348.7</td>\n",
       "      <td>1203.3</td>\n",
       "      <td>8156.4</td>\n",
       "    </tr>\n",
       "    <tr>\n",
       "      <th>4</th>\n",
       "      <td>กระทรวงการท่องเที่ยวและกีฬา</td>\n",
       "      <td>1572.6</td>\n",
       "      <td>892.1</td>\n",
       "      <td>1564.4</td>\n",
       "      <td>735.9</td>\n",
       "      <td>1327.7</td>\n",
       "      <td>6092.7</td>\n",
       "    </tr>\n",
       "    <tr>\n",
       "      <th>5</th>\n",
       "      <td>กระทรวงการพัฒนาสังคมและความมั่นคงของมนุษย์</td>\n",
       "      <td>2746.6</td>\n",
       "      <td>2519.3</td>\n",
       "      <td>397.8</td>\n",
       "      <td>16598.3</td>\n",
       "      <td>79.8</td>\n",
       "      <td>22341.8</td>\n",
       "    </tr>\n",
       "    <tr>\n",
       "      <th>6</th>\n",
       "      <td>กระทรวงการอุดมศึกษา วิทยาศาสตร์ วิจัยและนวัตกรรม</td>\n",
       "      <td>11248.4</td>\n",
       "      <td>939.9</td>\n",
       "      <td>9956.4</td>\n",
       "      <td>104384.6</td>\n",
       "      <td>1597.7</td>\n",
       "      <td>128127.0</td>\n",
       "    </tr>\n",
       "    <tr>\n",
       "      <th>9</th>\n",
       "      <td>กระทรวงดิจิทัลเพื่อเสรษฐกิจและสังคม</td>\n",
       "      <td>1311.6</td>\n",
       "      <td>2009.9</td>\n",
       "      <td>1243.4</td>\n",
       "      <td>1945.8</td>\n",
       "      <td>1791.0</td>\n",
       "      <td>8301.7</td>\n",
       "    </tr>\n",
       "    <tr>\n",
       "      <th>10</th>\n",
       "      <td>กระทรวงทรัพยากรธรรมชาติและสิ่งแวดล้อม</td>\n",
       "      <td>10992.6</td>\n",
       "      <td>5199.8</td>\n",
       "      <td>10408.8</td>\n",
       "      <td>1103.6</td>\n",
       "      <td>1630.9</td>\n",
       "      <td>29335.7</td>\n",
       "    </tr>\n",
       "    <tr>\n",
       "      <th>11</th>\n",
       "      <td>กระทรวงพลังงาน</td>\n",
       "      <td>822.0</td>\n",
       "      <td>531.2</td>\n",
       "      <td>707.8</td>\n",
       "      <td>30.7</td>\n",
       "      <td>187.5</td>\n",
       "      <td>2279.2</td>\n",
       "    </tr>\n",
       "    <tr>\n",
       "      <th>12</th>\n",
       "      <td>กระทรวงพาณิชย์</td>\n",
       "      <td>2216.4</td>\n",
       "      <td>1585.4</td>\n",
       "      <td>845.4</td>\n",
       "      <td>479.5</td>\n",
       "      <td>1698.8</td>\n",
       "      <td>6825.5</td>\n",
       "    </tr>\n",
       "    <tr>\n",
       "      <th>14</th>\n",
       "      <td>กระทรวงยุติธรรม</td>\n",
       "      <td>10363.6</td>\n",
       "      <td>8775.0</td>\n",
       "      <td>3333.1</td>\n",
       "      <td>1937.6</td>\n",
       "      <td>2418.8</td>\n",
       "      <td>26828.1</td>\n",
       "    </tr>\n",
       "    <tr>\n",
       "      <th>15</th>\n",
       "      <td>กระทรวงเเรงงาน</td>\n",
       "      <td>3671.6</td>\n",
       "      <td>1375.7</td>\n",
       "      <td>375.7</td>\n",
       "      <td>63712.9</td>\n",
       "      <td>584.4</td>\n",
       "      <td>69720.3</td>\n",
       "    </tr>\n",
       "    <tr>\n",
       "      <th>16</th>\n",
       "      <td>กระทรวงวัฒนธรรม</td>\n",
       "      <td>2321.9</td>\n",
       "      <td>1430.5</td>\n",
       "      <td>2325.4</td>\n",
       "      <td>1070.7</td>\n",
       "      <td>814.4</td>\n",
       "      <td>7962.9</td>\n",
       "    </tr>\n",
       "    <tr>\n",
       "      <th>19</th>\n",
       "      <td>กระทรวงอุตสาหกรรม</td>\n",
       "      <td>1635.9</td>\n",
       "      <td>603.4</td>\n",
       "      <td>745.8</td>\n",
       "      <td>157.9</td>\n",
       "      <td>1516.2</td>\n",
       "      <td>4659.2</td>\n",
       "    </tr>\n",
       "  </tbody>\n",
       "</table>\n",
       "</div>"
      ],
      "text/plain": [
       "                                   กระทรวง-งบรายจ่าย  งบบุคลากร  งบดําเนินงาน  \\\n",
       "0                                  สำนักนายกรัฐมนตรี     4104.5        3078.3   \n",
       "3                               กระทรวงการต่างประเทศ     2697.3        2509.6   \n",
       "4                        กระทรวงการท่องเที่ยวและกีฬา     1572.6         892.1   \n",
       "5         กระทรวงการพัฒนาสังคมและความมั่นคงของมนุษย์     2746.6        2519.3   \n",
       "6   กระทรวงการอุดมศึกษา วิทยาศาสตร์ วิจัยและนวัตกรรม    11248.4         939.9   \n",
       "9                กระทรวงดิจิทัลเพื่อเสรษฐกิจและสังคม     1311.6        2009.9   \n",
       "10             กระทรวงทรัพยากรธรรมชาติและสิ่งแวดล้อม    10992.6        5199.8   \n",
       "11                                    กระทรวงพลังงาน      822.0         531.2   \n",
       "12                                    กระทรวงพาณิชย์     2216.4        1585.4   \n",
       "14                                   กระทรวงยุติธรรม    10363.6        8775.0   \n",
       "15                                    กระทรวงเเรงงาน     3671.6        1375.7   \n",
       "16                                   กระทรวงวัฒนธรรม     2321.9        1430.5   \n",
       "19                                 กระทรวงอุตสาหกรรม     1635.9         603.4   \n",
       "\n",
       "    งบลงทุน  งบเงินอุดหนุน  งบรายจ่ายอื่น       รวม  \n",
       "0    6104.3        12397.0        13606.8   39290.9  \n",
       "3     397.5         1348.7         1203.3    8156.4  \n",
       "4    1564.4          735.9         1327.7    6092.7  \n",
       "5     397.8        16598.3           79.8   22341.8  \n",
       "6    9956.4       104384.6         1597.7  128127.0  \n",
       "9    1243.4         1945.8         1791.0    8301.7  \n",
       "10  10408.8         1103.6         1630.9   29335.7  \n",
       "11    707.8           30.7          187.5    2279.2  \n",
       "12    845.4          479.5         1698.8    6825.5  \n",
       "14   3333.1         1937.6         2418.8   26828.1  \n",
       "15    375.7        63712.9          584.4   69720.3  \n",
       "16   2325.4         1070.7          814.4    7962.9  \n",
       "19    745.8          157.9         1516.2    4659.2  "
      ]
     },
     "execution_count": 39,
     "metadata": {},
     "output_type": "execute_result"
    }
   ],
   "source": [
    "orig_df[df.cluster_id==0]"
   ]
  },
  {
   "cell_type": "markdown",
   "metadata": {},
   "source": [
    "#### Cluster 1"
   ]
  },
  {
   "cell_type": "code",
   "execution_count": 40,
   "metadata": {},
   "outputs": [
    {
     "data": {
      "text/plain": [
       "งบบุคลากร        107548.0\n",
       "งบดําเนินงาน      14411.4\n",
       "งบลงทุน           17025.5\n",
       "งบเงินอุดหนุน      6637.5\n",
       "งบรายจ่ายอื่น       179.9\n",
       "cluster_id            1.0\n",
       "dtype: float64"
      ]
     },
     "execution_count": 40,
     "metadata": {},
     "output_type": "execute_result"
    }
   ],
   "source": [
    "df[df.cluster_id==1].mean()"
   ]
  },
  {
   "cell_type": "code",
   "execution_count": 41,
   "metadata": {},
   "outputs": [
    {
     "data": {
      "text/html": [
       "<div>\n",
       "<style scoped>\n",
       "    .dataframe tbody tr th:only-of-type {\n",
       "        vertical-align: middle;\n",
       "    }\n",
       "\n",
       "    .dataframe tbody tr th {\n",
       "        vertical-align: top;\n",
       "    }\n",
       "\n",
       "    .dataframe thead th {\n",
       "        text-align: right;\n",
       "    }\n",
       "</style>\n",
       "<table border=\"1\" class=\"dataframe\">\n",
       "  <thead>\n",
       "    <tr style=\"text-align: right;\">\n",
       "      <th></th>\n",
       "      <th>กระทรวง-งบรายจ่าย</th>\n",
       "      <th>งบบุคลากร</th>\n",
       "      <th>งบดําเนินงาน</th>\n",
       "      <th>งบลงทุน</th>\n",
       "      <th>งบเงินอุดหนุน</th>\n",
       "      <th>งบรายจ่ายอื่น</th>\n",
       "      <th>รวม</th>\n",
       "    </tr>\n",
       "  </thead>\n",
       "  <tbody>\n",
       "    <tr>\n",
       "      <th>18</th>\n",
       "      <td>กระทรวงสาธารณสุข</td>\n",
       "      <td>107548.0</td>\n",
       "      <td>14411.4</td>\n",
       "      <td>17025.5</td>\n",
       "      <td>6637.5</td>\n",
       "      <td>179.9</td>\n",
       "      <td>145802.3</td>\n",
       "    </tr>\n",
       "  </tbody>\n",
       "</table>\n",
       "</div>"
      ],
      "text/plain": [
       "   กระทรวง-งบรายจ่าย  งบบุคลากร  งบดําเนินงาน  งบลงทุน  งบเงินอุดหนุน  \\\n",
       "18  กระทรวงสาธารณสุข   107548.0       14411.4  17025.5         6637.5   \n",
       "\n",
       "    งบรายจ่ายอื่น       รวม  \n",
       "18          179.9  145802.3  "
      ]
     },
     "execution_count": 41,
     "metadata": {},
     "output_type": "execute_result"
    }
   ],
   "source": [
    "orig_df[df.cluster_id==1]"
   ]
  },
  {
   "cell_type": "markdown",
   "metadata": {},
   "source": [
    "#### Cluster 2"
   ]
  },
  {
   "cell_type": "code",
   "execution_count": 42,
   "metadata": {},
   "outputs": [
    {
     "data": {
      "text/plain": [
       "งบบุคลากร        223199.6\n",
       "งบดําเนินงาน      20029.5\n",
       "งบลงทุน           19437.0\n",
       "งบเงินอุดหนุน     88628.9\n",
       "งบรายจ่ายอื่น      5154.7\n",
       "cluster_id            2.0\n",
       "dtype: float64"
      ]
     },
     "execution_count": 42,
     "metadata": {},
     "output_type": "execute_result"
    }
   ],
   "source": [
    "df[df.cluster_id==2].mean()"
   ]
  },
  {
   "cell_type": "code",
   "execution_count": null,
   "metadata": {},
   "outputs": [
    {
     "data": {
      "text/html": [
       "<div>\n",
       "<style scoped>\n",
       "    .dataframe tbody tr th:only-of-type {\n",
       "        vertical-align: middle;\n",
       "    }\n",
       "\n",
       "    .dataframe tbody tr th {\n",
       "        vertical-align: top;\n",
       "    }\n",
       "\n",
       "    .dataframe thead th {\n",
       "        text-align: right;\n",
       "    }\n",
       "</style>\n",
       "<table border=\"1\" class=\"dataframe\">\n",
       "  <thead>\n",
       "    <tr style=\"text-align: right;\">\n",
       "      <th></th>\n",
       "      <th>กระทรวง-งบรายจ่าย</th>\n",
       "      <th>งบบุคลากร</th>\n",
       "      <th>งบดําเนินงาน</th>\n",
       "      <th>งบลงทุน</th>\n",
       "      <th>งบเงินอุดหนุน</th>\n",
       "      <th>งบรายจ่ายอื่น</th>\n",
       "      <th>รวม</th>\n",
       "    </tr>\n",
       "  </thead>\n",
       "  <tbody>\n",
       "    <tr>\n",
       "      <th>18</th>\n",
       "      <td>กระทรวงสาธารณสุข</td>\n",
       "      <td>107548.0</td>\n",
       "      <td>14411.4</td>\n",
       "      <td>17025.5</td>\n",
       "      <td>6637.5</td>\n",
       "      <td>179.9</td>\n",
       "      <td>145802.3</td>\n",
       "    </tr>\n",
       "  </tbody>\n",
       "</table>\n",
       "</div>"
      ],
      "text/plain": [
       "   กระทรวง-งบรายจ่าย  งบบุคลากร  งบดําเนินงาน  งบลงทุน  งบเงินอุดหนุน  \\\n",
       "18  กระทรวงสาธารณสุข   107548.0       14411.4  17025.5         6637.5   \n",
       "\n",
       "    งบรายจ่ายอื่น       รวม  \n",
       "18          179.9  145802.3  "
      ]
     },
     "metadata": {},
     "output_type": "display_data"
    }
   ],
   "source": [
    "orig_df[df.cluster_id==2]"
   ]
  },
  {
   "cell_type": "markdown",
   "metadata": {},
   "source": [
    "#### Cluster 3"
   ]
  },
  {
   "cell_type": "code",
   "execution_count": 43,
   "metadata": {},
   "outputs": [
    {
     "data": {
      "text/plain": [
       "งบบุคลากร         12988.2\n",
       "งบดําเนินงาน       6567.9\n",
       "งบลงทุน            3421.2\n",
       "งบเงินอุดหนุน       599.4\n",
       "งบรายจ่ายอื่น    244863.5\n",
       "cluster_id            3.0\n",
       "dtype: float64"
      ]
     },
     "execution_count": 43,
     "metadata": {},
     "output_type": "execute_result"
    }
   ],
   "source": [
    "df[df.cluster_id==3].mean()"
   ]
  },
  {
   "cell_type": "code",
   "execution_count": 44,
   "metadata": {},
   "outputs": [
    {
     "data": {
      "text/html": [
       "<div>\n",
       "<style scoped>\n",
       "    .dataframe tbody tr th:only-of-type {\n",
       "        vertical-align: middle;\n",
       "    }\n",
       "\n",
       "    .dataframe tbody tr th {\n",
       "        vertical-align: top;\n",
       "    }\n",
       "\n",
       "    .dataframe thead th {\n",
       "        text-align: right;\n",
       "    }\n",
       "</style>\n",
       "<table border=\"1\" class=\"dataframe\">\n",
       "  <thead>\n",
       "    <tr style=\"text-align: right;\">\n",
       "      <th></th>\n",
       "      <th>กระทรวง-งบรายจ่าย</th>\n",
       "      <th>งบบุคลากร</th>\n",
       "      <th>งบดําเนินงาน</th>\n",
       "      <th>งบลงทุน</th>\n",
       "      <th>งบเงินอุดหนุน</th>\n",
       "      <th>งบรายจ่ายอื่น</th>\n",
       "      <th>รวม</th>\n",
       "    </tr>\n",
       "  </thead>\n",
       "  <tbody>\n",
       "    <tr>\n",
       "      <th>2</th>\n",
       "      <td>กระทรวงการคลัง</td>\n",
       "      <td>12988.2</td>\n",
       "      <td>6567.9</td>\n",
       "      <td>3421.2</td>\n",
       "      <td>599.4</td>\n",
       "      <td>244863.5</td>\n",
       "      <td>268440.2</td>\n",
       "    </tr>\n",
       "  </tbody>\n",
       "</table>\n",
       "</div>"
      ],
      "text/plain": [
       "  กระทรวง-งบรายจ่าย  งบบุคลากร  งบดําเนินงาน  งบลงทุน  งบเงินอุดหนุน  \\\n",
       "2    กระทรวงการคลัง    12988.2        6567.9   3421.2          599.4   \n",
       "\n",
       "   งบรายจ่ายอื่น       รวม  \n",
       "2       244863.5  268440.2  "
      ]
     },
     "execution_count": 44,
     "metadata": {},
     "output_type": "execute_result"
    }
   ],
   "source": [
    "orig_df[df.cluster_id==3]"
   ]
  },
  {
   "cell_type": "markdown",
   "metadata": {},
   "source": [
    "#### Cluster 4"
   ]
  },
  {
   "cell_type": "code",
   "execution_count": 45,
   "metadata": {},
   "outputs": [
    {
     "data": {
      "text/plain": [
       "งบบุคลากร         19360.2\n",
       "งบดําเนินงาน      12718.1\n",
       "งบลงทุน           38441.4\n",
       "งบเงินอุดหนุน    235503.6\n",
       "งบรายจ่ายอื่น     28464.4\n",
       "cluster_id            4.0\n",
       "dtype: float64"
      ]
     },
     "execution_count": 45,
     "metadata": {},
     "output_type": "execute_result"
    }
   ],
   "source": [
    "df[df.cluster_id==4].mean()"
   ]
  },
  {
   "cell_type": "code",
   "execution_count": 47,
   "metadata": {},
   "outputs": [
    {
     "data": {
      "text/html": [
       "<div>\n",
       "<style scoped>\n",
       "    .dataframe tbody tr th:only-of-type {\n",
       "        vertical-align: middle;\n",
       "    }\n",
       "\n",
       "    .dataframe tbody tr th {\n",
       "        vertical-align: top;\n",
       "    }\n",
       "\n",
       "    .dataframe thead th {\n",
       "        text-align: right;\n",
       "    }\n",
       "</style>\n",
       "<table border=\"1\" class=\"dataframe\">\n",
       "  <thead>\n",
       "    <tr style=\"text-align: right;\">\n",
       "      <th></th>\n",
       "      <th>กระทรวง-งบรายจ่าย</th>\n",
       "      <th>งบบุคลากร</th>\n",
       "      <th>งบดําเนินงาน</th>\n",
       "      <th>งบลงทุน</th>\n",
       "      <th>งบเงินอุดหนุน</th>\n",
       "      <th>งบรายจ่ายอื่น</th>\n",
       "      <th>รวม</th>\n",
       "    </tr>\n",
       "  </thead>\n",
       "  <tbody>\n",
       "    <tr>\n",
       "      <th>13</th>\n",
       "      <td>กระทรวงมหาดไทย</td>\n",
       "      <td>19360.2</td>\n",
       "      <td>12718.1</td>\n",
       "      <td>38441.4</td>\n",
       "      <td>235503.6</td>\n",
       "      <td>28464.4</td>\n",
       "      <td>334487.7</td>\n",
       "    </tr>\n",
       "  </tbody>\n",
       "</table>\n",
       "</div>"
      ],
      "text/plain": [
       "   กระทรวง-งบรายจ่าย  งบบุคลากร  งบดําเนินงาน  งบลงทุน  งบเงินอุดหนุน  \\\n",
       "13    กระทรวงมหาดไทย    19360.2       12718.1  38441.4       235503.6   \n",
       "\n",
       "    งบรายจ่ายอื่น       รวม  \n",
       "13        28464.4  334487.7  "
      ]
     },
     "execution_count": 47,
     "metadata": {},
     "output_type": "execute_result"
    }
   ],
   "source": [
    "orig_df[df.cluster_id==4]"
   ]
  },
  {
   "cell_type": "markdown",
   "metadata": {},
   "source": [
    "#### Cluster 5"
   ]
  },
  {
   "cell_type": "code",
   "execution_count": 48,
   "metadata": {},
   "outputs": [
    {
     "data": {
      "text/plain": [
       "งบบุคลากร          9704.7\n",
       "งบดําเนินงาน       2436.2\n",
       "งบลงทุน          177009.1\n",
       "งบเงินอุดหนุน        57.1\n",
       "งบรายจ่ายอื่น       751.6\n",
       "cluster_id            5.0\n",
       "dtype: float64"
      ]
     },
     "execution_count": 48,
     "metadata": {},
     "output_type": "execute_result"
    }
   ],
   "source": [
    "df[df.cluster_id==5].mean()"
   ]
  },
  {
   "cell_type": "code",
   "execution_count": 50,
   "metadata": {},
   "outputs": [
    {
     "data": {
      "text/html": [
       "<div>\n",
       "<style scoped>\n",
       "    .dataframe tbody tr th:only-of-type {\n",
       "        vertical-align: middle;\n",
       "    }\n",
       "\n",
       "    .dataframe tbody tr th {\n",
       "        vertical-align: top;\n",
       "    }\n",
       "\n",
       "    .dataframe thead th {\n",
       "        text-align: right;\n",
       "    }\n",
       "</style>\n",
       "<table border=\"1\" class=\"dataframe\">\n",
       "  <thead>\n",
       "    <tr style=\"text-align: right;\">\n",
       "      <th></th>\n",
       "      <th>กระทรวง-งบรายจ่าย</th>\n",
       "      <th>งบบุคลากร</th>\n",
       "      <th>งบดําเนินงาน</th>\n",
       "      <th>งบลงทุน</th>\n",
       "      <th>งบเงินอุดหนุน</th>\n",
       "      <th>งบรายจ่ายอื่น</th>\n",
       "      <th>รวม</th>\n",
       "    </tr>\n",
       "  </thead>\n",
       "  <tbody>\n",
       "    <tr>\n",
       "      <th>8</th>\n",
       "      <td>กระทรวงคมนาคม</td>\n",
       "      <td>9704.7</td>\n",
       "      <td>2436.2</td>\n",
       "      <td>177009.1</td>\n",
       "      <td>57.1</td>\n",
       "      <td>751.6</td>\n",
       "      <td>189958.7</td>\n",
       "    </tr>\n",
       "  </tbody>\n",
       "</table>\n",
       "</div>"
      ],
      "text/plain": [
       "  กระทรวง-งบรายจ่าย  งบบุคลากร  งบดําเนินงาน   งบลงทุน  งบเงินอุดหนุน  \\\n",
       "8     กระทรวงคมนาคม     9704.7        2436.2  177009.1           57.1   \n",
       "\n",
       "   งบรายจ่ายอื่น       รวม  \n",
       "8          751.6  189958.7  "
      ]
     },
     "execution_count": 50,
     "metadata": {},
     "output_type": "execute_result"
    }
   ],
   "source": [
    "orig_df[df.cluster_id==5]"
   ]
  },
  {
   "cell_type": "markdown",
   "metadata": {},
   "source": [
    "#### Cluster 6"
   ]
  },
  {
   "cell_type": "code",
   "execution_count": 53,
   "metadata": {},
   "outputs": [
    {
     "data": {
      "text/plain": [
       "งบบุคลากร        24376.6\n",
       "งบดําเนินงาน     11495.8\n",
       "งบลงทุน          72292.8\n",
       "งบเงินอุดหนุน     2001.1\n",
       "งบรายจ่ายอื่น      564.8\n",
       "cluster_id           6.0\n",
       "dtype: float64"
      ]
     },
     "execution_count": 53,
     "metadata": {},
     "output_type": "execute_result"
    }
   ],
   "source": [
    "df[df.cluster_id==6].mean()"
   ]
  },
  {
   "cell_type": "code",
   "execution_count": 55,
   "metadata": {},
   "outputs": [
    {
     "data": {
      "text/html": [
       "<div>\n",
       "<style scoped>\n",
       "    .dataframe tbody tr th:only-of-type {\n",
       "        vertical-align: middle;\n",
       "    }\n",
       "\n",
       "    .dataframe tbody tr th {\n",
       "        vertical-align: top;\n",
       "    }\n",
       "\n",
       "    .dataframe thead th {\n",
       "        text-align: right;\n",
       "    }\n",
       "</style>\n",
       "<table border=\"1\" class=\"dataframe\">\n",
       "  <thead>\n",
       "    <tr style=\"text-align: right;\">\n",
       "      <th></th>\n",
       "      <th>กระทรวง-งบรายจ่าย</th>\n",
       "      <th>งบบุคลากร</th>\n",
       "      <th>งบดําเนินงาน</th>\n",
       "      <th>งบลงทุน</th>\n",
       "      <th>งบเงินอุดหนุน</th>\n",
       "      <th>งบรายจ่ายอื่น</th>\n",
       "      <th>รวม</th>\n",
       "    </tr>\n",
       "  </thead>\n",
       "  <tbody>\n",
       "    <tr>\n",
       "      <th>7</th>\n",
       "      <td>กระทรวงเกษตรเเละสหกรณ์</td>\n",
       "      <td>24376.6</td>\n",
       "      <td>11495.8</td>\n",
       "      <td>72292.8</td>\n",
       "      <td>2001.1</td>\n",
       "      <td>564.8</td>\n",
       "      <td>110731.1</td>\n",
       "    </tr>\n",
       "  </tbody>\n",
       "</table>\n",
       "</div>"
      ],
      "text/plain": [
       "        กระทรวง-งบรายจ่าย  งบบุคลากร  งบดําเนินงาน  งบลงทุน  งบเงินอุดหนุน  \\\n",
       "7  กระทรวงเกษตรเเละสหกรณ์    24376.6       11495.8  72292.8         2001.1   \n",
       "\n",
       "   งบรายจ่ายอื่น       รวม  \n",
       "7          564.8  110731.1  "
      ]
     },
     "execution_count": 55,
     "metadata": {},
     "output_type": "execute_result"
    }
   ],
   "source": [
    "orig_df[df.cluster_id==6]"
   ]
  },
  {
   "cell_type": "markdown",
   "metadata": {},
   "source": [
    "#### Cluster 7"
   ]
  },
  {
   "cell_type": "code",
   "execution_count": 56,
   "metadata": {},
   "outputs": [
    {
     "data": {
      "text/plain": [
       "งบบุคลากร        91027.4\n",
       "งบดําเนินงาน     24102.9\n",
       "งบลงทุน          14426.1\n",
       "งบเงินอุดหนุน     4794.4\n",
       "งบรายจ่ายอื่น    80179.8\n",
       "cluster_id           7.0\n",
       "dtype: float64"
      ]
     },
     "execution_count": 56,
     "metadata": {},
     "output_type": "execute_result"
    }
   ],
   "source": [
    "df[df.cluster_id==7].mean()"
   ]
  },
  {
   "cell_type": "code",
   "execution_count": 58,
   "metadata": {},
   "outputs": [
    {
     "data": {
      "text/html": [
       "<div>\n",
       "<style scoped>\n",
       "    .dataframe tbody tr th:only-of-type {\n",
       "        vertical-align: middle;\n",
       "    }\n",
       "\n",
       "    .dataframe tbody tr th {\n",
       "        vertical-align: top;\n",
       "    }\n",
       "\n",
       "    .dataframe thead th {\n",
       "        text-align: right;\n",
       "    }\n",
       "</style>\n",
       "<table border=\"1\" class=\"dataframe\">\n",
       "  <thead>\n",
       "    <tr style=\"text-align: right;\">\n",
       "      <th></th>\n",
       "      <th>กระทรวง-งบรายจ่าย</th>\n",
       "      <th>งบบุคลากร</th>\n",
       "      <th>งบดําเนินงาน</th>\n",
       "      <th>งบลงทุน</th>\n",
       "      <th>งบเงินอุดหนุน</th>\n",
       "      <th>งบรายจ่ายอื่น</th>\n",
       "      <th>รวม</th>\n",
       "    </tr>\n",
       "  </thead>\n",
       "  <tbody>\n",
       "    <tr>\n",
       "      <th>1</th>\n",
       "      <td>กระทรวงกลาโหม</td>\n",
       "      <td>91027.4</td>\n",
       "      <td>24102.9</td>\n",
       "      <td>14426.1</td>\n",
       "      <td>4794.4</td>\n",
       "      <td>80179.8</td>\n",
       "      <td>214530.6</td>\n",
       "    </tr>\n",
       "  </tbody>\n",
       "</table>\n",
       "</div>"
      ],
      "text/plain": [
       "  กระทรวง-งบรายจ่าย  งบบุคลากร  งบดําเนินงาน  งบลงทุน  งบเงินอุดหนุน  \\\n",
       "1     กระทรวงกลาโหม    91027.4       24102.9  14426.1         4794.4   \n",
       "\n",
       "   งบรายจ่ายอื่น       รวม  \n",
       "1        80179.8  214530.6  "
      ]
     },
     "execution_count": 58,
     "metadata": {},
     "output_type": "execute_result"
    }
   ],
   "source": [
    "orig_df[df.cluster_id==7]"
   ]
  },
  {
   "cell_type": "code",
   "execution_count": null,
   "metadata": {},
   "outputs": [],
   "source": []
  }
 ],
 "metadata": {
  "interpreter": {
   "hash": "ea0a44f2f402a63e82fdf768a3511fd7a26165759bfd150a1ce0970f34770235"
  },
  "kernelspec": {
   "display_name": "Python 3.9.7 ('base')",
   "language": "python",
   "name": "python3"
  },
  "language_info": {
   "codemirror_mode": {
    "name": "ipython",
    "version": 3
   },
   "file_extension": ".py",
   "mimetype": "text/x-python",
   "name": "python",
   "nbconvert_exporter": "python",
   "pygments_lexer": "ipython3",
   "version": "3.9.7"
  },
  "orig_nbformat": 4
 },
 "nbformat": 4,
 "nbformat_minor": 2
}
