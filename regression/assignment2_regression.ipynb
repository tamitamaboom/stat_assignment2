{
 "cells": [
  {
   "cell_type": "markdown",
   "metadata": {},
   "source": [
    "## Part 1.1"
   ]
  },
  {
   "cell_type": "code",
   "execution_count": 1,
   "metadata": {},
   "outputs": [
    {
     "data": {
      "text/plain": [
       "'C:\\\\Users\\\\sinta\\\\statistics_engineer\\\\week9\\\\assignment2_regression'"
      ]
     },
     "execution_count": 1,
     "metadata": {},
     "output_type": "execute_result"
    }
   ],
   "source": [
    "import os\n",
    "os.chdir('C:/Users/sinta/statistics_engineer/week9/assignment2_regression')\n",
    "os.getcwd()"
   ]
  },
  {
   "cell_type": "code",
   "execution_count": 2,
   "metadata": {},
   "outputs": [],
   "source": [
    "import numpy as np\n",
    "import pandas as pd\n",
    "import matplotlib.pyplot as plt\n",
    "import seaborn as sns\n",
    "from pandas.plotting import scatter_matrix\n",
    "%matplotlib inline\n",
    "sns.set(rc={'figure.figsize': (20, 10)})"
   ]
  },
  {
   "cell_type": "code",
   "execution_count": 3,
   "metadata": {},
   "outputs": [],
   "source": [
    "import matplotlib as mpl\n",
    "mpl.font_manager.fontManager.addfont('thsarabunnew-webfont.ttf')\n",
    "sns.set(font='TH Sarabun New')"
   ]
  },
  {
   "cell_type": "code",
   "execution_count": 4,
   "metadata": {},
   "outputs": [],
   "source": [
    "from sklearn.model_selection import train_test_split\n",
    "from sklearn.linear_model import LinearRegression\n",
    "from sklearn import metrics"
   ]
  },
  {
   "cell_type": "code",
   "execution_count": 5,
   "metadata": {},
   "outputs": [
    {
     "data": {
      "text/html": [
       "<div>\n",
       "<style scoped>\n",
       "    .dataframe tbody tr th:only-of-type {\n",
       "        vertical-align: middle;\n",
       "    }\n",
       "\n",
       "    .dataframe tbody tr th {\n",
       "        vertical-align: top;\n",
       "    }\n",
       "\n",
       "    .dataframe thead th {\n",
       "        text-align: right;\n",
       "    }\n",
       "</style>\n",
       "<table border=\"1\" class=\"dataframe\">\n",
       "  <thead>\n",
       "    <tr style=\"text-align: right;\">\n",
       "      <th></th>\n",
       "      <th>ปี</th>\n",
       "      <th>การป้องกันประเทศ</th>\n",
       "      <th>การรักษาความสงบภายใน</th>\n",
       "      <th>การเศรษฐกิจ</th>\n",
       "      <th>การสาธารณสุข</th>\n",
       "      <th>การศาสนา วัฒนธรรม และนันทนาการ</th>\n",
       "      <th>การศึกษา</th>\n",
       "      <th>การสังคมสงเคราะห์</th>\n",
       "    </tr>\n",
       "  </thead>\n",
       "  <tbody>\n",
       "    <tr>\n",
       "      <th>0</th>\n",
       "      <td>2547</td>\n",
       "      <td>74106.0</td>\n",
       "      <td>65171.0</td>\n",
       "      <td>282325.2</td>\n",
       "      <td>83650.3</td>\n",
       "      <td>6560.5</td>\n",
       "      <td>251194.0</td>\n",
       "      <td>108278.0</td>\n",
       "    </tr>\n",
       "    <tr>\n",
       "      <th>1</th>\n",
       "      <td>2548</td>\n",
       "      <td>78052.8</td>\n",
       "      <td>66727.2</td>\n",
       "      <td>296571.2</td>\n",
       "      <td>89163.7</td>\n",
       "      <td>7109.0</td>\n",
       "      <td>262721.8</td>\n",
       "      <td>85975.9</td>\n",
       "    </tr>\n",
       "    <tr>\n",
       "      <th>2</th>\n",
       "      <td>2549</td>\n",
       "      <td>85107.6</td>\n",
       "      <td>77857.1</td>\n",
       "      <td>339783.5</td>\n",
       "      <td>101040.5</td>\n",
       "      <td>9943.3</td>\n",
       "      <td>295622.8</td>\n",
       "      <td>95559.5</td>\n",
       "    </tr>\n",
       "    <tr>\n",
       "      <th>3</th>\n",
       "      <td>2550</td>\n",
       "      <td>114696.2</td>\n",
       "      <td>87631.5</td>\n",
       "      <td>332282.9</td>\n",
       "      <td>148704.5</td>\n",
       "      <td>13089.4</td>\n",
       "      <td>355241.1</td>\n",
       "      <td>112398.8</td>\n",
       "    </tr>\n",
       "    <tr>\n",
       "      <th>4</th>\n",
       "      <td>2551</td>\n",
       "      <td>141265.8</td>\n",
       "      <td>93033.4</td>\n",
       "      <td>321879.7</td>\n",
       "      <td>153825.4</td>\n",
       "      <td>13614.3</td>\n",
       "      <td>363164.2</td>\n",
       "      <td>115085.9</td>\n",
       "    </tr>\n",
       "  </tbody>\n",
       "</table>\n",
       "</div>"
      ],
      "text/plain": [
       "     ปี  การป้องกันประเทศ  การรักษาความสงบภายใน  การเศรษฐกิจ  การสาธารณสุข  \\\n",
       "0  2547           74106.0               65171.0     282325.2       83650.3   \n",
       "1  2548           78052.8               66727.2     296571.2       89163.7   \n",
       "2  2549           85107.6               77857.1     339783.5      101040.5   \n",
       "3  2550          114696.2               87631.5     332282.9      148704.5   \n",
       "4  2551          141265.8               93033.4     321879.7      153825.4   \n",
       "\n",
       "   การศาสนา วัฒนธรรม และนันทนาการ  การศึกษา  การสังคมสงเคราะห์  \n",
       "0                          6560.5  251194.0           108278.0  \n",
       "1                          7109.0  262721.8            85975.9  \n",
       "2                          9943.3  295622.8            95559.5  \n",
       "3                         13089.4  355241.1           112398.8  \n",
       "4                         13614.3  363164.2           115085.9  "
      ]
     },
     "execution_count": 5,
     "metadata": {},
     "output_type": "execute_result"
    }
   ],
   "source": [
    "df_side = pd.read_excel(\"assignment2_regression_govt_spending.xlsx\",sheet_name=\"side\")\n",
    "df_side.head()"
   ]
  },
  {
   "cell_type": "code",
   "execution_count": 6,
   "metadata": {},
   "outputs": [
    {
     "data": {
      "text/plain": [
       "Index(['ปี', 'การป้องกันประเทศ', 'การรักษาความสงบภายใน', 'การเศรษฐกิจ',\n",
       "       'การสาธารณสุข', 'การศาสนา วัฒนธรรม และนันทนาการ', 'การศึกษา',\n",
       "       'การสังคมสงเคราะห์'],\n",
       "      dtype='object')"
      ]
     },
     "execution_count": 6,
     "metadata": {},
     "output_type": "execute_result"
    }
   ],
   "source": [
    "df_side.columns"
   ]
  },
  {
   "cell_type": "code",
   "execution_count": 7,
   "metadata": {},
   "outputs": [
    {
     "data": {
      "text/html": [
       "<div>\n",
       "<style scoped>\n",
       "    .dataframe tbody tr th:only-of-type {\n",
       "        vertical-align: middle;\n",
       "    }\n",
       "\n",
       "    .dataframe tbody tr th {\n",
       "        vertical-align: top;\n",
       "    }\n",
       "\n",
       "    .dataframe thead th {\n",
       "        text-align: right;\n",
       "    }\n",
       "</style>\n",
       "<table border=\"1\" class=\"dataframe\">\n",
       "  <thead>\n",
       "    <tr style=\"text-align: right;\">\n",
       "      <th></th>\n",
       "      <th>ปี</th>\n",
       "      <th>งบกลาง</th>\n",
       "      <th>สำนักนายกรัฐมนตรี</th>\n",
       "      <th>กระทรวงกลาโหม</th>\n",
       "      <th>กระทรวงการคลัง</th>\n",
       "      <th>กระทรวงการต่างประเทศ</th>\n",
       "      <th>กระทรวงการท่องเที่ยวและกีฬา</th>\n",
       "      <th>กระทรวงการพัฒนาสังคมและความมั่นคงของมนุษย์</th>\n",
       "      <th>กระทรวงเกษตรเเละสหกรณ์</th>\n",
       "      <th>กระทรวงคมนาคม</th>\n",
       "      <th>...</th>\n",
       "      <th>กระทรวงพลังงาน</th>\n",
       "      <th>กระทรวงพาณิชย์</th>\n",
       "      <th>กระทรวงมหาดไทย</th>\n",
       "      <th>กระทรวงยุติธรรม</th>\n",
       "      <th>กระทรวงเเรงงาน</th>\n",
       "      <th>กระทรวงวัฒนธรรม</th>\n",
       "      <th>กระทรวงวิทยาศาสตร์และเทคโนโลยี</th>\n",
       "      <th>กระทรวงศึกษาธิการ</th>\n",
       "      <th>กระทรวงสาธารณสุข</th>\n",
       "      <th>กระทรวงอุตสาหกรรม</th>\n",
       "    </tr>\n",
       "  </thead>\n",
       "  <tbody>\n",
       "    <tr>\n",
       "      <th>0</th>\n",
       "      <td>2547</td>\n",
       "      <td>130325.6982</td>\n",
       "      <td>7437.5239</td>\n",
       "      <td>78551.3245</td>\n",
       "      <td>131532.3509</td>\n",
       "      <td>5401.1813</td>\n",
       "      <td>2572.6008</td>\n",
       "      <td>4026.5131</td>\n",
       "      <td>53084.8043</td>\n",
       "      <td>51642.2188</td>\n",
       "      <td>...</td>\n",
       "      <td>1555.1703</td>\n",
       "      <td>4620.8538</td>\n",
       "      <td>102793.9181</td>\n",
       "      <td>11305.3150</td>\n",
       "      <td>12958.5813</td>\n",
       "      <td>2239.6428</td>\n",
       "      <td>5130.5591</td>\n",
       "      <td>190262.8362</td>\n",
       "      <td>45147.8912</td>\n",
       "      <td>3037.9549</td>\n",
       "    </tr>\n",
       "    <tr>\n",
       "      <th>1</th>\n",
       "      <td>2548</td>\n",
       "      <td>200189.9838</td>\n",
       "      <td>9465.8280</td>\n",
       "      <td>81241.3899</td>\n",
       "      <td>140176.6018</td>\n",
       "      <td>5648.4780</td>\n",
       "      <td>2403.0069</td>\n",
       "      <td>4755.3858</td>\n",
       "      <td>52131.1367</td>\n",
       "      <td>66443.3708</td>\n",
       "      <td>...</td>\n",
       "      <td>1609.7556</td>\n",
       "      <td>4658.0021</td>\n",
       "      <td>139800.1791</td>\n",
       "      <td>11753.7794</td>\n",
       "      <td>17679.2534</td>\n",
       "      <td>2480.8597</td>\n",
       "      <td>6671.8609</td>\n",
       "      <td>203752.3867</td>\n",
       "      <td>45014.4048</td>\n",
       "      <td>3697.8785</td>\n",
       "    </tr>\n",
       "    <tr>\n",
       "      <th>2</th>\n",
       "      <td>2549</td>\n",
       "      <td>256220.0081</td>\n",
       "      <td>15188.5060</td>\n",
       "      <td>85936.1180</td>\n",
       "      <td>144371.5171</td>\n",
       "      <td>6334.6295</td>\n",
       "      <td>2978.6333</td>\n",
       "      <td>5968.2579</td>\n",
       "      <td>55150.4657</td>\n",
       "      <td>66054.9252</td>\n",
       "      <td>...</td>\n",
       "      <td>1705.8282</td>\n",
       "      <td>4829.7984</td>\n",
       "      <td>160643.4755</td>\n",
       "      <td>12449.7379</td>\n",
       "      <td>18819.2455</td>\n",
       "      <td>2937.3920</td>\n",
       "      <td>9995.3871</td>\n",
       "      <td>225592.2688</td>\n",
       "      <td>52652.2127</td>\n",
       "      <td>3908.4547</td>\n",
       "    </tr>\n",
       "    <tr>\n",
       "      <th>3</th>\n",
       "      <td>2550</td>\n",
       "      <td>197650.6613</td>\n",
       "      <td>14395.7081</td>\n",
       "      <td>115024.0148</td>\n",
       "      <td>172907.0925</td>\n",
       "      <td>7321.3340</td>\n",
       "      <td>3413.2816</td>\n",
       "      <td>8632.2180</td>\n",
       "      <td>64972.7696</td>\n",
       "      <td>70546.8483</td>\n",
       "      <td>...</td>\n",
       "      <td>2199.2721</td>\n",
       "      <td>5826.1381</td>\n",
       "      <td>179115.7526</td>\n",
       "      <td>13934.8587</td>\n",
       "      <td>25228.8420</td>\n",
       "      <td>4281.0641</td>\n",
       "      <td>9803.8393</td>\n",
       "      <td>282254.3414</td>\n",
       "      <td>62279.2224</td>\n",
       "      <td>4528.4215</td>\n",
       "    </tr>\n",
       "    <tr>\n",
       "      <th>4</th>\n",
       "      <td>2551</td>\n",
       "      <td>242774.5848</td>\n",
       "      <td>13579.6648</td>\n",
       "      <td>143518.9011</td>\n",
       "      <td>180496.5578</td>\n",
       "      <td>7587.3383</td>\n",
       "      <td>3656.9314</td>\n",
       "      <td>9129.7977</td>\n",
       "      <td>65193.2776</td>\n",
       "      <td>65679.7689</td>\n",
       "      <td>...</td>\n",
       "      <td>2465.2720</td>\n",
       "      <td>6152.7260</td>\n",
       "      <td>190930.1453</td>\n",
       "      <td>14451.6034</td>\n",
       "      <td>26162.5259</td>\n",
       "      <td>4371.0958</td>\n",
       "      <td>8349.9708</td>\n",
       "      <td>301085.1582</td>\n",
       "      <td>65434.7853</td>\n",
       "      <td>5080.9628</td>\n",
       "    </tr>\n",
       "  </tbody>\n",
       "</table>\n",
       "<p>5 rows × 22 columns</p>\n",
       "</div>"
      ],
      "text/plain": [
       "     ปี       งบกลาง  สำนักนายกรัฐมนตรี  กระทรวงกลาโหม  กระทรวงการคลัง  \\\n",
       "0  2547  130325.6982          7437.5239     78551.3245     131532.3509   \n",
       "1  2548  200189.9838          9465.8280     81241.3899     140176.6018   \n",
       "2  2549  256220.0081         15188.5060     85936.1180     144371.5171   \n",
       "3  2550  197650.6613         14395.7081    115024.0148     172907.0925   \n",
       "4  2551  242774.5848         13579.6648    143518.9011     180496.5578   \n",
       "\n",
       "   กระทรวงการต่างประเทศ  กระทรวงการท่องเที่ยวและกีฬา  \\\n",
       "0             5401.1813                    2572.6008   \n",
       "1             5648.4780                    2403.0069   \n",
       "2             6334.6295                    2978.6333   \n",
       "3             7321.3340                    3413.2816   \n",
       "4             7587.3383                    3656.9314   \n",
       "\n",
       "   กระทรวงการพัฒนาสังคมและความมั่นคงของมนุษย์  กระทรวงเกษตรเเละสหกรณ์  \\\n",
       "0                                   4026.5131              53084.8043   \n",
       "1                                   4755.3858              52131.1367   \n",
       "2                                   5968.2579              55150.4657   \n",
       "3                                   8632.2180              64972.7696   \n",
       "4                                   9129.7977              65193.2776   \n",
       "\n",
       "   กระทรวงคมนาคม  ...  กระทรวงพลังงาน  กระทรวงพาณิชย์  กระทรวงมหาดไทย  \\\n",
       "0     51642.2188  ...       1555.1703       4620.8538     102793.9181   \n",
       "1     66443.3708  ...       1609.7556       4658.0021     139800.1791   \n",
       "2     66054.9252  ...       1705.8282       4829.7984     160643.4755   \n",
       "3     70546.8483  ...       2199.2721       5826.1381     179115.7526   \n",
       "4     65679.7689  ...       2465.2720       6152.7260     190930.1453   \n",
       "\n",
       "   กระทรวงยุติธรรม  กระทรวงเเรงงาน  กระทรวงวัฒนธรรม  \\\n",
       "0       11305.3150      12958.5813        2239.6428   \n",
       "1       11753.7794      17679.2534        2480.8597   \n",
       "2       12449.7379      18819.2455        2937.3920   \n",
       "3       13934.8587      25228.8420        4281.0641   \n",
       "4       14451.6034      26162.5259        4371.0958   \n",
       "\n",
       "   กระทรวงวิทยาศาสตร์และเทคโนโลยี  กระทรวงศึกษาธิการ  กระทรวงสาธารณสุข  \\\n",
       "0                       5130.5591        190262.8362        45147.8912   \n",
       "1                       6671.8609        203752.3867        45014.4048   \n",
       "2                       9995.3871        225592.2688        52652.2127   \n",
       "3                       9803.8393        282254.3414        62279.2224   \n",
       "4                       8349.9708        301085.1582        65434.7853   \n",
       "\n",
       "   กระทรวงอุตสาหกรรม  \n",
       "0          3037.9549  \n",
       "1          3697.8785  \n",
       "2          3908.4547  \n",
       "3          4528.4215  \n",
       "4          5080.9628  \n",
       "\n",
       "[5 rows x 22 columns]"
      ]
     },
     "execution_count": 7,
     "metadata": {},
     "output_type": "execute_result"
    }
   ],
   "source": [
    "df_budget = pd.read_excel(\"assignment2_regression_govt_spending.xlsx\",sheet_name=\"budget\")\n",
    "df_budget.head()"
   ]
  },
  {
   "cell_type": "code",
   "execution_count": 8,
   "metadata": {},
   "outputs": [
    {
     "data": {
      "text/html": [
       "<div>\n",
       "<style scoped>\n",
       "    .dataframe tbody tr th:only-of-type {\n",
       "        vertical-align: middle;\n",
       "    }\n",
       "\n",
       "    .dataframe tbody tr th {\n",
       "        vertical-align: top;\n",
       "    }\n",
       "\n",
       "    .dataframe thead th {\n",
       "        text-align: right;\n",
       "    }\n",
       "</style>\n",
       "<table border=\"1\" class=\"dataframe\">\n",
       "  <thead>\n",
       "    <tr style=\"text-align: right;\">\n",
       "      <th></th>\n",
       "      <th>ปี</th>\n",
       "      <th>งบกลาง</th>\n",
       "      <th>สำนักนายกรัฐมนตรี</th>\n",
       "      <th>กระทรวงกลาโหม</th>\n",
       "      <th>กระทรวงการคลัง</th>\n",
       "      <th>กระทรวงการต่างประเทศ</th>\n",
       "      <th>กระทรวงการท่องเที่ยวและกีฬา</th>\n",
       "      <th>กระทรวงการพัฒนาสังคมและความมั่นคงของมนุษย์</th>\n",
       "      <th>กระทรวงเกษตรเเละสหกรณ์</th>\n",
       "      <th>กระทรวงคมนาคม</th>\n",
       "      <th>...</th>\n",
       "      <th>กระทรวงศึกษาธิการ</th>\n",
       "      <th>กระทรวงสาธารณสุข</th>\n",
       "      <th>กระทรวงอุตสาหกรรม</th>\n",
       "      <th>การป้องกันประเทศ</th>\n",
       "      <th>การรักษาความสงบภายใน</th>\n",
       "      <th>การเศรษฐกิจ</th>\n",
       "      <th>การสาธารณสุข</th>\n",
       "      <th>การศาสนา วัฒนธรรม และนันทนาการ</th>\n",
       "      <th>การศึกษา</th>\n",
       "      <th>การสังคมสงเคราะห์</th>\n",
       "    </tr>\n",
       "  </thead>\n",
       "  <tbody>\n",
       "    <tr>\n",
       "      <th>0</th>\n",
       "      <td>2547</td>\n",
       "      <td>130325.6982</td>\n",
       "      <td>7437.5239</td>\n",
       "      <td>78551.3245</td>\n",
       "      <td>131532.3509</td>\n",
       "      <td>5401.1813</td>\n",
       "      <td>2572.6008</td>\n",
       "      <td>4026.5131</td>\n",
       "      <td>53084.8043</td>\n",
       "      <td>51642.2188</td>\n",
       "      <td>...</td>\n",
       "      <td>190262.8362</td>\n",
       "      <td>45147.8912</td>\n",
       "      <td>3037.9549</td>\n",
       "      <td>74106.0</td>\n",
       "      <td>65171.0</td>\n",
       "      <td>282325.2</td>\n",
       "      <td>83650.3</td>\n",
       "      <td>6560.5</td>\n",
       "      <td>251194.0</td>\n",
       "      <td>108278.0</td>\n",
       "    </tr>\n",
       "    <tr>\n",
       "      <th>1</th>\n",
       "      <td>2548</td>\n",
       "      <td>200189.9838</td>\n",
       "      <td>9465.8280</td>\n",
       "      <td>81241.3899</td>\n",
       "      <td>140176.6018</td>\n",
       "      <td>5648.4780</td>\n",
       "      <td>2403.0069</td>\n",
       "      <td>4755.3858</td>\n",
       "      <td>52131.1367</td>\n",
       "      <td>66443.3708</td>\n",
       "      <td>...</td>\n",
       "      <td>203752.3867</td>\n",
       "      <td>45014.4048</td>\n",
       "      <td>3697.8785</td>\n",
       "      <td>78052.8</td>\n",
       "      <td>66727.2</td>\n",
       "      <td>296571.2</td>\n",
       "      <td>89163.7</td>\n",
       "      <td>7109.0</td>\n",
       "      <td>262721.8</td>\n",
       "      <td>85975.9</td>\n",
       "    </tr>\n",
       "    <tr>\n",
       "      <th>2</th>\n",
       "      <td>2549</td>\n",
       "      <td>256220.0081</td>\n",
       "      <td>15188.5060</td>\n",
       "      <td>85936.1180</td>\n",
       "      <td>144371.5171</td>\n",
       "      <td>6334.6295</td>\n",
       "      <td>2978.6333</td>\n",
       "      <td>5968.2579</td>\n",
       "      <td>55150.4657</td>\n",
       "      <td>66054.9252</td>\n",
       "      <td>...</td>\n",
       "      <td>225592.2688</td>\n",
       "      <td>52652.2127</td>\n",
       "      <td>3908.4547</td>\n",
       "      <td>85107.6</td>\n",
       "      <td>77857.1</td>\n",
       "      <td>339783.5</td>\n",
       "      <td>101040.5</td>\n",
       "      <td>9943.3</td>\n",
       "      <td>295622.8</td>\n",
       "      <td>95559.5</td>\n",
       "    </tr>\n",
       "    <tr>\n",
       "      <th>3</th>\n",
       "      <td>2550</td>\n",
       "      <td>197650.6613</td>\n",
       "      <td>14395.7081</td>\n",
       "      <td>115024.0148</td>\n",
       "      <td>172907.0925</td>\n",
       "      <td>7321.3340</td>\n",
       "      <td>3413.2816</td>\n",
       "      <td>8632.2180</td>\n",
       "      <td>64972.7696</td>\n",
       "      <td>70546.8483</td>\n",
       "      <td>...</td>\n",
       "      <td>282254.3414</td>\n",
       "      <td>62279.2224</td>\n",
       "      <td>4528.4215</td>\n",
       "      <td>114696.2</td>\n",
       "      <td>87631.5</td>\n",
       "      <td>332282.9</td>\n",
       "      <td>148704.5</td>\n",
       "      <td>13089.4</td>\n",
       "      <td>355241.1</td>\n",
       "      <td>112398.8</td>\n",
       "    </tr>\n",
       "    <tr>\n",
       "      <th>4</th>\n",
       "      <td>2551</td>\n",
       "      <td>242774.5848</td>\n",
       "      <td>13579.6648</td>\n",
       "      <td>143518.9011</td>\n",
       "      <td>180496.5578</td>\n",
       "      <td>7587.3383</td>\n",
       "      <td>3656.9314</td>\n",
       "      <td>9129.7977</td>\n",
       "      <td>65193.2776</td>\n",
       "      <td>65679.7689</td>\n",
       "      <td>...</td>\n",
       "      <td>301085.1582</td>\n",
       "      <td>65434.7853</td>\n",
       "      <td>5080.9628</td>\n",
       "      <td>141265.8</td>\n",
       "      <td>93033.4</td>\n",
       "      <td>321879.7</td>\n",
       "      <td>153825.4</td>\n",
       "      <td>13614.3</td>\n",
       "      <td>363164.2</td>\n",
       "      <td>115085.9</td>\n",
       "    </tr>\n",
       "  </tbody>\n",
       "</table>\n",
       "<p>5 rows × 29 columns</p>\n",
       "</div>"
      ],
      "text/plain": [
       "     ปี       งบกลาง  สำนักนายกรัฐมนตรี  กระทรวงกลาโหม  กระทรวงการคลัง  \\\n",
       "0  2547  130325.6982          7437.5239     78551.3245     131532.3509   \n",
       "1  2548  200189.9838          9465.8280     81241.3899     140176.6018   \n",
       "2  2549  256220.0081         15188.5060     85936.1180     144371.5171   \n",
       "3  2550  197650.6613         14395.7081    115024.0148     172907.0925   \n",
       "4  2551  242774.5848         13579.6648    143518.9011     180496.5578   \n",
       "\n",
       "   กระทรวงการต่างประเทศ  กระทรวงการท่องเที่ยวและกีฬา  \\\n",
       "0             5401.1813                    2572.6008   \n",
       "1             5648.4780                    2403.0069   \n",
       "2             6334.6295                    2978.6333   \n",
       "3             7321.3340                    3413.2816   \n",
       "4             7587.3383                    3656.9314   \n",
       "\n",
       "   กระทรวงการพัฒนาสังคมและความมั่นคงของมนุษย์  กระทรวงเกษตรเเละสหกรณ์  \\\n",
       "0                                   4026.5131              53084.8043   \n",
       "1                                   4755.3858              52131.1367   \n",
       "2                                   5968.2579              55150.4657   \n",
       "3                                   8632.2180              64972.7696   \n",
       "4                                   9129.7977              65193.2776   \n",
       "\n",
       "   กระทรวงคมนาคม  ...  กระทรวงศึกษาธิการ  กระทรวงสาธารณสุข  กระทรวงอุตสาหกรรม  \\\n",
       "0     51642.2188  ...        190262.8362        45147.8912          3037.9549   \n",
       "1     66443.3708  ...        203752.3867        45014.4048          3697.8785   \n",
       "2     66054.9252  ...        225592.2688        52652.2127          3908.4547   \n",
       "3     70546.8483  ...        282254.3414        62279.2224          4528.4215   \n",
       "4     65679.7689  ...        301085.1582        65434.7853          5080.9628   \n",
       "\n",
       "   การป้องกันประเทศ  การรักษาความสงบภายใน  การเศรษฐกิจ  การสาธารณสุข  \\\n",
       "0           74106.0               65171.0     282325.2       83650.3   \n",
       "1           78052.8               66727.2     296571.2       89163.7   \n",
       "2           85107.6               77857.1     339783.5      101040.5   \n",
       "3          114696.2               87631.5     332282.9      148704.5   \n",
       "4          141265.8               93033.4     321879.7      153825.4   \n",
       "\n",
       "   การศาสนา วัฒนธรรม และนันทนาการ  การศึกษา  การสังคมสงเคราะห์  \n",
       "0                          6560.5  251194.0           108278.0  \n",
       "1                          7109.0  262721.8            85975.9  \n",
       "2                          9943.3  295622.8            95559.5  \n",
       "3                         13089.4  355241.1           112398.8  \n",
       "4                         13614.3  363164.2           115085.9  \n",
       "\n",
       "[5 rows x 29 columns]"
      ]
     },
     "execution_count": 8,
     "metadata": {},
     "output_type": "execute_result"
    }
   ],
   "source": [
    "df = df_budget.join(df_side[['การป้องกันประเทศ','การรักษาความสงบภายใน','การเศรษฐกิจ','การสาธารณสุข','การศาสนา วัฒนธรรม และนันทนาการ','การศึกษา','การสังคมสงเคราะห์']])\n",
    "df.head()"
   ]
  },
  {
   "cell_type": "code",
   "execution_count": 9,
   "metadata": {},
   "outputs": [
    {
     "data": {
      "text/plain": [
       "<AxesSubplot:>"
      ]
     },
     "execution_count": 9,
     "metadata": {},
     "output_type": "execute_result"
    },
    {
     "data": {
      "image/png": "[encoded data removed]",
      "text/plain": [
       "<Figure size 1440x720 with 2 Axes>"
      ]
     },
     "metadata": {},
     "output_type": "display_data"
    }
   ],
   "source": [
    "sns.heatmap(df.corr(),\n",
    "            square=True,\n",
    "            linewidths=0.25,    \n",
    "            linecolor=(0,0,0),\n",
    "           cmap=sns.color_palette(\"coolwarm\"),\n",
    "           annot=True)"
   ]
  },
  {
   "cell_type": "code",
   "execution_count": 10,
   "metadata": {},
   "outputs": [
    {
     "data": {
      "text/plain": [
       "Index(['ปี', 'งบกลาง', 'สำนักนายกรัฐมนตรี', 'กระทรวงกลาโหม', 'กระทรวงการคลัง',\n",
       "       'กระทรวงการต่างประเทศ', 'กระทรวงการท่องเที่ยวและกีฬา',\n",
       "       'กระทรวงการพัฒนาสังคมและความมั่นคงของมนุษย์', 'กระทรวงเกษตรเเละสหกรณ์',\n",
       "       'กระทรวงคมนาคม', 'กระทรวงทรัพยากรธรรมชาติและสิ่งแวดล้อม',\n",
       "       'กระทรวงเทคโนโลยีสารสนเทศและการสื่อสาร', 'กระทรวงพลังงาน',\n",
       "       'กระทรวงพาณิชย์', 'กระทรวงมหาดไทย', 'กระทรวงยุติธรรม', 'กระทรวงเเรงงาน',\n",
       "       'กระทรวงวัฒนธรรม', 'กระทรวงวิทยาศาสตร์และเทคโนโลยี',\n",
       "       'กระทรวงศึกษาธิการ', 'กระทรวงสาธารณสุข', 'กระทรวงอุตสาหกรรม',\n",
       "       'การป้องกันประเทศ', 'การรักษาความสงบภายใน', 'การเศรษฐกิจ',\n",
       "       'การสาธารณสุข', 'การศาสนา วัฒนธรรม และนันทนาการ', 'การศึกษา',\n",
       "       'การสังคมสงเคราะห์'],\n",
       "      dtype='object')"
      ]
     },
     "execution_count": 10,
     "metadata": {},
     "output_type": "execute_result"
    }
   ],
   "source": [
    "df.columns"
   ]
  },
  {
   "cell_type": "code",
   "execution_count": 11,
   "metadata": {},
   "outputs": [
    {
     "name": "stdout",
     "output_type": "stream",
     "text": [
      "                            OLS Regression Results                            \n",
      "==============================================================================\n",
      "Dep. Variable:            การเศรษฐกิจ   R-squared:                       0.961\n",
      "Model:                            OLS   Adj. R-squared:                  0.943\n",
      "Method:                 Least Squares   F-statistic:                     54.42\n",
      "Date:                Tue, 08 Mar 2022   Prob (F-statistic):           2.19e-07\n",
      "Time:                        18:52:28   Log-Likelihood:                -197.22\n",
      "No. Observations:                  17   AIC:                             406.4\n",
      "Df Residuals:                      11   BIC:                             411.4\n",
      "Df Model:                           5                                         \n",
      "Covariance Type:            nonrobust                                         \n",
      "==========================================================================================\n",
      "                             coef    std err          t      P>|t|      [0.025      0.975]\n",
      "------------------------------------------------------------------------------------------\n",
      "กระทรวงยุติธรรม            2.6204     13.924      0.188      0.854     -28.026      33.267\n",
      "กระทรวงเกษตรเเละสหกรณ์     1.8289      2.018      0.906      0.384      -2.613       6.271\n",
      "กระทรวงคมนาคม              1.5810      0.807      1.959      0.076      -0.195       3.357\n",
      "กระทรวงสาธารณสุข          -1.9732      2.281     -0.865      0.405      -6.993       3.047\n",
      "กระทรวงมหาดไทย             0.9969      0.411      2.423      0.034       0.091       1.902\n",
      "const                   2.278e+04   7.94e+04      0.287      0.779   -1.52e+05    1.98e+05\n",
      "==============================================================================\n",
      "Omnibus:                        2.063   Durbin-Watson:                   2.215\n",
      "Prob(Omnibus):                  0.357   Jarque-Bera (JB):                0.994\n",
      "Skew:                           0.024   Prob(JB):                        0.608\n",
      "Kurtosis:                       1.816   Cond. No.                     3.19e+06\n",
      "==============================================================================\n",
      "\n",
      "Notes:\n",
      "[1] Standard Errors assume that the covariance matrix of the errors is correctly specified.\n",
      "[2] The condition number is large, 3.19e+06. This might indicate that there are\n",
      "strong multicollinearity or other numerical problems.\n"
     ]
    },
    {
     "name": "stderr",
     "output_type": "stream",
     "text": [
      "C:\\Users\\sinta\\anaconda3\\lib\\site-packages\\scipy\\stats\\stats.py:1603: UserWarning: kurtosistest only valid for n>=20 ... continuing anyway, n=17\n",
      "  warnings.warn(\"kurtosistest only valid for n>=20 ... continuing \"\n"
     ]
    }
   ],
   "source": [
    "import statsmodels.api as sm\n",
    "X = df[['กระทรวงยุติธรรม','กระทรวงเกษตรเเละสหกรณ์','กระทรวงคมนาคม','กระทรวงสาธารณสุข','กระทรวงมหาดไทย']]\n",
    "X = sm.add_constant(X, prepend=False)\n",
    "model = sm.OLS(df[['การเศรษฐกิจ']], X)\n",
    "results = model.fit()\n",
    "print(results.summary())"
   ]
  },
  {
   "cell_type": "code",
   "execution_count": 12,
   "metadata": {},
   "outputs": [
    {
     "name": "stdout",
     "output_type": "stream",
     "text": [
      "                            OLS Regression Results                            \n",
      "==============================================================================\n",
      "Dep. Variable:            การเศรษฐกิจ   R-squared:                       0.882\n",
      "Model:                            OLS   Adj. R-squared:                  0.874\n",
      "Method:                 Least Squares   F-statistic:                     112.5\n",
      "Date:                Tue, 08 Mar 2022   Prob (F-statistic):           2.29e-08\n",
      "Time:                        18:52:28   Log-Likelihood:                -206.63\n",
      "No. Observations:                  17   AIC:                             417.3\n",
      "Df Residuals:                      15   BIC:                             418.9\n",
      "Df Model:                           1                                         \n",
      "Covariance Type:            nonrobust                                         \n",
      "==================================================================================\n",
      "                     coef    std err          t      P>|t|      [0.025      0.975]\n",
      "----------------------------------------------------------------------------------\n",
      "กระทรวงมหาดไทย     1.4544      0.137     10.605      0.000       1.162       1.747\n",
      "const           7.036e+04   3.75e+04      1.877      0.080   -9554.752     1.5e+05\n",
      "==============================================================================\n",
      "Omnibus:                        0.484   Durbin-Watson:                   1.135\n",
      "Prob(Omnibus):                  0.785   Jarque-Bera (JB):                0.001\n",
      "Skew:                          -0.002   Prob(JB):                         1.00\n",
      "Kurtosis:                       3.037   Cond. No.                     8.63e+05\n",
      "==============================================================================\n",
      "\n",
      "Notes:\n",
      "[1] Standard Errors assume that the covariance matrix of the errors is correctly specified.\n",
      "[2] The condition number is large, 8.63e+05. This might indicate that there are\n",
      "strong multicollinearity or other numerical problems.\n"
     ]
    },
    {
     "name": "stderr",
     "output_type": "stream",
     "text": [
      "C:\\Users\\sinta\\anaconda3\\lib\\site-packages\\scipy\\stats\\stats.py:1603: UserWarning: kurtosistest only valid for n>=20 ... continuing anyway, n=17\n",
      "  warnings.warn(\"kurtosistest only valid for n>=20 ... continuing \"\n"
     ]
    }
   ],
   "source": [
    "X = df[['กระทรวงมหาดไทย']]\n",
    "X = sm.add_constant(X, prepend=False)\n",
    "model = sm.OLS(df[['การเศรษฐกิจ']], X)\n",
    "results = model.fit()\n",
    "print(results.summary())"
   ]
  },
  {
   "cell_type": "markdown",
   "metadata": {},
   "source": [
    "## Part 1.2"
   ]
  },
  {
   "cell_type": "code",
   "execution_count": 13,
   "metadata": {},
   "outputs": [
    {
     "name": "stdout",
     "output_type": "stream",
     "text": [
      "                            OLS Regression Results                            \n",
      "==============================================================================\n",
      "Dep. Variable:            การเศรษฐกิจ   R-squared:                       0.965\n",
      "Model:                            OLS   Adj. R-squared:                  0.950\n",
      "Method:                 Least Squares   F-statistic:                     61.43\n",
      "Date:                Tue, 08 Mar 2022   Prob (F-statistic):           1.16e-07\n",
      "Time:                        18:52:28   Log-Likelihood:                -196.22\n",
      "No. Observations:                  17   AIC:                             404.4\n",
      "Df Residuals:                      11   BIC:                             409.4\n",
      "Df Model:                           5                                         \n",
      "Covariance Type:            nonrobust                                         \n",
      "===============================================================================================\n",
      "                                  coef    std err          t      P>|t|      [0.025      0.975]\n",
      "-----------------------------------------------------------------------------------------------\n",
      "กระทรวงการคลัง                 -1.4663      0.597     -2.456      0.032      -2.781      -0.152\n",
      "กระทรวงการท่องเที่ยวและกีฬา     0.1614      5.927      0.027      0.979     -12.883      13.206\n",
      "กระทรวงเกษตรเเละสหกรณ์          7.7496      0.812      9.547      0.000       5.963       9.536\n",
      "กระทรวงพาณิชย์                 53.0675     25.089      2.115      0.058      -2.153     108.288\n",
      "กระทรวงอุตสาหกรรม             -17.0097     18.555     -0.917      0.379     -57.848      23.829\n",
      "const                       -1.127e+05   6.52e+04     -1.728      0.112   -2.56e+05    3.08e+04\n",
      "==============================================================================\n",
      "Omnibus:                        0.626   Durbin-Watson:                   1.547\n",
      "Prob(Omnibus):                  0.731   Jarque-Bera (JB):                0.666\n",
      "Skew:                          -0.273   Prob(JB):                        0.717\n",
      "Kurtosis:                       2.198   Cond. No.                     1.85e+06\n",
      "==============================================================================\n",
      "\n",
      "Notes:\n",
      "[1] Standard Errors assume that the covariance matrix of the errors is correctly specified.\n",
      "[2] The condition number is large, 1.85e+06. This might indicate that there are\n",
      "strong multicollinearity or other numerical problems.\n"
     ]
    },
    {
     "name": "stderr",
     "output_type": "stream",
     "text": [
      "C:\\Users\\sinta\\anaconda3\\lib\\site-packages\\scipy\\stats\\stats.py:1603: UserWarning: kurtosistest only valid for n>=20 ... continuing anyway, n=17\n",
      "  warnings.warn(\"kurtosistest only valid for n>=20 ... continuing \"\n"
     ]
    }
   ],
   "source": [
    "X = df[['กระทรวงการคลัง','กระทรวงการท่องเที่ยวและกีฬา','กระทรวงเกษตรเเละสหกรณ์','กระทรวงพาณิชย์','กระทรวงอุตสาหกรรม']]\n",
    "X = sm.add_constant(X, prepend=False)\n",
    "model = sm.OLS(df[['การเศรษฐกิจ']], X)\n",
    "results = model.fit()\n",
    "print(results.summary())"
   ]
  },
  {
   "cell_type": "code",
   "execution_count": 14,
   "metadata": {},
   "outputs": [
    {
     "name": "stdout",
     "output_type": "stream",
     "text": [
      "                            OLS Regression Results                            \n",
      "==============================================================================\n",
      "Dep. Variable:            การเศรษฐกิจ   R-squared:                       0.917\n",
      "Model:                            OLS   Adj. R-squared:                  0.905\n",
      "Method:                 Least Squares   F-statistic:                     77.43\n",
      "Date:                Tue, 08 Mar 2022   Prob (F-statistic):           2.69e-08\n",
      "Time:                        18:52:28   Log-Likelihood:                -203.66\n",
      "No. Observations:                  17   AIC:                             413.3\n",
      "Df Residuals:                      14   BIC:                             415.8\n",
      "Df Model:                           2                                         \n",
      "Covariance Type:            nonrobust                                         \n",
      "==========================================================================================\n",
      "                             coef    std err          t      P>|t|      [0.025      0.975]\n",
      "------------------------------------------------------------------------------------------\n",
      "กระทรวงการคลัง            -0.5828      0.520     -1.120      0.282      -1.699       0.533\n",
      "กระทรวงเกษตรเเละสหกรณ์     8.1011      1.005      8.060      0.000       5.945      10.257\n",
      "const                  -5.225e+04   6.01e+04     -0.869      0.399   -1.81e+05    7.67e+04\n",
      "==============================================================================\n",
      "Omnibus:                        1.814   Durbin-Watson:                   0.955\n",
      "Prob(Omnibus):                  0.404   Jarque-Bera (JB):                1.128\n",
      "Skew:                           0.623   Prob(JB):                        0.569\n",
      "Kurtosis:                       2.804   Cond. No.                     1.24e+06\n",
      "==============================================================================\n",
      "\n",
      "Notes:\n",
      "[1] Standard Errors assume that the covariance matrix of the errors is correctly specified.\n",
      "[2] The condition number is large, 1.24e+06. This might indicate that there are\n",
      "strong multicollinearity or other numerical problems.\n"
     ]
    },
    {
     "name": "stderr",
     "output_type": "stream",
     "text": [
      "C:\\Users\\sinta\\anaconda3\\lib\\site-packages\\scipy\\stats\\stats.py:1603: UserWarning: kurtosistest only valid for n>=20 ... continuing anyway, n=17\n",
      "  warnings.warn(\"kurtosistest only valid for n>=20 ... continuing \"\n"
     ]
    }
   ],
   "source": [
    "X = df[['กระทรวงการคลัง','กระทรวงเกษตรเเละสหกรณ์']]\n",
    "X = sm.add_constant(X, prepend=False)\n",
    "model = sm.OLS(df[['การเศรษฐกิจ']], X)\n",
    "results = model.fit()\n",
    "print(results.summary())"
   ]
  },
  {
   "cell_type": "code",
   "execution_count": 15,
   "metadata": {},
   "outputs": [
    {
     "name": "stdout",
     "output_type": "stream",
     "text": [
      "                            OLS Regression Results                            \n",
      "==============================================================================\n",
      "Dep. Variable:            การเศรษฐกิจ   R-squared:                       0.910\n",
      "Model:                            OLS   Adj. R-squared:                  0.904\n",
      "Method:                 Least Squares   F-statistic:                     151.1\n",
      "Date:                Tue, 08 Mar 2022   Prob (F-statistic):           3.12e-09\n",
      "Time:                        18:52:28   Log-Likelihood:                -204.39\n",
      "No. Observations:                  17   AIC:                             412.8\n",
      "Df Residuals:                      15   BIC:                             414.4\n",
      "Df Model:                           1                                         \n",
      "Covariance Type:            nonrobust                                         \n",
      "==========================================================================================\n",
      "                             coef    std err          t      P>|t|      [0.025      0.975]\n",
      "------------------------------------------------------------------------------------------\n",
      "กระทรวงเกษตรเเละสหกรณ์     7.1814      0.584     12.290      0.000       5.936       8.427\n",
      "const                  -9.675e+04   4.55e+04     -2.127      0.050   -1.94e+05     205.987\n",
      "==============================================================================\n",
      "Omnibus:                        2.104   Durbin-Watson:                   0.777\n",
      "Prob(Omnibus):                  0.349   Jarque-Bera (JB):                1.140\n",
      "Skew:                           0.272   Prob(JB):                        0.565\n",
      "Kurtosis:                       1.854   Cond. No.                     3.40e+05\n",
      "==============================================================================\n",
      "\n",
      "Notes:\n",
      "[1] Standard Errors assume that the covariance matrix of the errors is correctly specified.\n",
      "[2] The condition number is large, 3.4e+05. This might indicate that there are\n",
      "strong multicollinearity or other numerical problems.\n"
     ]
    },
    {
     "name": "stderr",
     "output_type": "stream",
     "text": [
      "C:\\Users\\sinta\\anaconda3\\lib\\site-packages\\scipy\\stats\\stats.py:1603: UserWarning: kurtosistest only valid for n>=20 ... continuing anyway, n=17\n",
      "  warnings.warn(\"kurtosistest only valid for n>=20 ... continuing \"\n"
     ]
    }
   ],
   "source": [
    "X = df[['กระทรวงเกษตรเเละสหกรณ์']]\n",
    "X = sm.add_constant(X, prepend=False)\n",
    "model = sm.OLS(df[['การเศรษฐกิจ']], X)\n",
    "results = model.fit()\n",
    "print(results.summary())"
   ]
  },
  {
   "cell_type": "markdown",
   "metadata": {},
   "source": [
    "## Part 2"
   ]
  },
  {
   "cell_type": "code",
   "execution_count": 16,
   "metadata": {},
   "outputs": [
    {
     "name": "stdout",
     "output_type": "stream",
     "text": [
      "                            OLS Regression Results                            \n",
      "==============================================================================\n",
      "Dep. Variable:       การป้องกันประเทศ   R-squared:                       0.912\n",
      "Model:                            OLS   Adj. R-squared:                  0.906\n",
      "Method:                 Least Squares   F-statistic:                     155.8\n",
      "Date:                Tue, 08 Mar 2022   Prob (F-statistic):           2.52e-09\n",
      "Time:                        18:52:28   Log-Likelihood:                -186.99\n",
      "No. Observations:                  17   AIC:                             378.0\n",
      "Df Residuals:                      15   BIC:                             379.6\n",
      "Df Model:                           1                                         \n",
      "Covariance Type:            nonrobust                                         \n",
      "===================================================================================\n",
      "                      coef    std err          t      P>|t|      [0.025      0.975]\n",
      "-----------------------------------------------------------------------------------\n",
      "กระทรวงยุติธรรม     9.5882      0.768     12.483      0.000       7.951      11.225\n",
      "const           -1.348e+04   1.47e+04     -0.917      0.374   -4.48e+04    1.79e+04\n",
      "==============================================================================\n",
      "Omnibus:                        1.257   Durbin-Watson:                   0.349\n",
      "Prob(Omnibus):                  0.533   Jarque-Bera (JB):                0.821\n",
      "Skew:                           0.108   Prob(JB):                        0.663\n",
      "Kurtosis:                       1.945   Cond. No.                     7.53e+04\n",
      "==============================================================================\n",
      "\n",
      "Notes:\n",
      "[1] Standard Errors assume that the covariance matrix of the errors is correctly specified.\n",
      "[2] The condition number is large, 7.53e+04. This might indicate that there are\n",
      "strong multicollinearity or other numerical problems.\n"
     ]
    },
    {
     "name": "stderr",
     "output_type": "stream",
     "text": [
      "C:\\Users\\sinta\\anaconda3\\lib\\site-packages\\scipy\\stats\\stats.py:1603: UserWarning: kurtosistest only valid for n>=20 ... continuing anyway, n=17\n",
      "  warnings.warn(\"kurtosistest only valid for n>=20 ... continuing \"\n"
     ]
    }
   ],
   "source": [
    "X = df[['กระทรวงยุติธรรม']]\n",
    "X = sm.add_constant(X, prepend=False)\n",
    "model = sm.OLS(df[['การป้องกันประเทศ']], X)\n",
    "results = model.fit()\n",
    "print(results.summary())"
   ]
  },
  {
   "cell_type": "code",
   "execution_count": 17,
   "metadata": {},
   "outputs": [
    {
     "name": "stdout",
     "output_type": "stream",
     "text": [
      "                             OLS Regression Results                             \n",
      "================================================================================\n",
      "Dep. Variable:     การรักษาความสงบภายใน   R-squared:                       0.988\n",
      "Model:                              OLS   Adj. R-squared:                  0.987\n",
      "Method:                   Least Squares   F-statistic:                     1190.\n",
      "Date:                  Tue, 08 Mar 2022   Prob (F-statistic):           1.05e-15\n",
      "Time:                          18:52:28   Log-Likelihood:                -168.24\n",
      "No. Observations:                    17   AIC:                             340.5\n",
      "Df Residuals:                        15   BIC:                             342.1\n",
      "Df Model:                             1                                         \n",
      "Covariance Type:              nonrobust                                         \n",
      "===================================================================================\n",
      "                      coef    std err          t      P>|t|      [0.025      0.975]\n",
      "-----------------------------------------------------------------------------------\n",
      "กระทรวงยุติธรรม     8.7942      0.255     34.497      0.000       8.251       9.338\n",
      "const           -3.036e+04   4880.840     -6.221      0.000   -4.08e+04      -2e+04\n",
      "==============================================================================\n",
      "Omnibus:                        2.925   Durbin-Watson:                   1.101\n",
      "Prob(Omnibus):                  0.232   Jarque-Bera (JB):                1.303\n",
      "Skew:                           0.268   Prob(JB):                        0.521\n",
      "Kurtosis:                       1.754   Cond. No.                     7.53e+04\n",
      "==============================================================================\n",
      "\n",
      "Notes:\n",
      "[1] Standard Errors assume that the covariance matrix of the errors is correctly specified.\n",
      "[2] The condition number is large, 7.53e+04. This might indicate that there are\n",
      "strong multicollinearity or other numerical problems.\n"
     ]
    },
    {
     "name": "stderr",
     "output_type": "stream",
     "text": [
      "C:\\Users\\sinta\\anaconda3\\lib\\site-packages\\scipy\\stats\\stats.py:1603: UserWarning: kurtosistest only valid for n>=20 ... continuing anyway, n=17\n",
      "  warnings.warn(\"kurtosistest only valid for n>=20 ... continuing \"\n"
     ]
    }
   ],
   "source": [
    "X = df[['กระทรวงยุติธรรม']]\n",
    "X = sm.add_constant(X, prepend=False)\n",
    "model = sm.OLS(df[['การรักษาความสงบภายใน']], X)\n",
    "results = model.fit()\n",
    "print(results.summary())"
   ]
  },
  {
   "cell_type": "markdown",
   "metadata": {},
   "source": [
    "## Part 3 "
   ]
  },
  {
   "cell_type": "code",
   "execution_count": 18,
   "metadata": {},
   "outputs": [],
   "source": [
    "from sklearn.model_selection import train_test_split\n",
    "from sklearn.linear_model import LinearRegression\n",
    "from sklearn import metrics"
   ]
  },
  {
   "cell_type": "code",
   "execution_count": 19,
   "metadata": {},
   "outputs": [
    {
     "data": {
      "text/html": [
       "<div>\n",
       "<style scoped>\n",
       "    .dataframe tbody tr th:only-of-type {\n",
       "        vertical-align: middle;\n",
       "    }\n",
       "\n",
       "    .dataframe tbody tr th {\n",
       "        vertical-align: top;\n",
       "    }\n",
       "\n",
       "    .dataframe thead th {\n",
       "        text-align: right;\n",
       "    }\n",
       "</style>\n",
       "<table border=\"1\" class=\"dataframe\">\n",
       "  <thead>\n",
       "    <tr style=\"text-align: right;\">\n",
       "      <th></th>\n",
       "      <th>กระทรวงการคลัง</th>\n",
       "      <th>กระทรวงเกษตรเเละสหกรณ์</th>\n",
       "      <th>กระทรวงพาณิชย์</th>\n",
       "      <th>const</th>\n",
       "    </tr>\n",
       "  </thead>\n",
       "  <tbody>\n",
       "    <tr>\n",
       "      <th>0</th>\n",
       "      <td>131532.3509</td>\n",
       "      <td>53084.8043</td>\n",
       "      <td>4620.8538</td>\n",
       "      <td>1.0</td>\n",
       "    </tr>\n",
       "    <tr>\n",
       "      <th>1</th>\n",
       "      <td>140176.6018</td>\n",
       "      <td>52131.1367</td>\n",
       "      <td>4658.0021</td>\n",
       "      <td>1.0</td>\n",
       "    </tr>\n",
       "    <tr>\n",
       "      <th>2</th>\n",
       "      <td>144371.5171</td>\n",
       "      <td>55150.4657</td>\n",
       "      <td>4829.7984</td>\n",
       "      <td>1.0</td>\n",
       "    </tr>\n",
       "    <tr>\n",
       "      <th>3</th>\n",
       "      <td>172907.0925</td>\n",
       "      <td>64972.7696</td>\n",
       "      <td>5826.1381</td>\n",
       "      <td>1.0</td>\n",
       "    </tr>\n",
       "    <tr>\n",
       "      <th>4</th>\n",
       "      <td>180496.5578</td>\n",
       "      <td>65193.2776</td>\n",
       "      <td>6152.7260</td>\n",
       "      <td>1.0</td>\n",
       "    </tr>\n",
       "  </tbody>\n",
       "</table>\n",
       "</div>"
      ],
      "text/plain": [
       "   กระทรวงการคลัง  กระทรวงเกษตรเเละสหกรณ์  กระทรวงพาณิชย์  const\n",
       "0     131532.3509              53084.8043       4620.8538    1.0\n",
       "1     140176.6018              52131.1367       4658.0021    1.0\n",
       "2     144371.5171              55150.4657       4829.7984    1.0\n",
       "3     172907.0925              64972.7696       5826.1381    1.0\n",
       "4     180496.5578              65193.2776       6152.7260    1.0"
      ]
     },
     "execution_count": 19,
     "metadata": {},
     "output_type": "execute_result"
    }
   ],
   "source": [
    "import statsmodels.api as sm\n",
    "X_linear = df[['กระทรวงการคลัง','กระทรวงเกษตรเเละสหกรณ์','กระทรวงพาณิชย์']]\n",
    "X_linear = sm.add_constant(X_linear, prepend=False)\n",
    "X_linear.head()"
   ]
  },
  {
   "cell_type": "code",
   "execution_count": 20,
   "metadata": {},
   "outputs": [
    {
     "data": {
      "text/html": [
       "<div>\n",
       "<style scoped>\n",
       "    .dataframe tbody tr th:only-of-type {\n",
       "        vertical-align: middle;\n",
       "    }\n",
       "\n",
       "    .dataframe tbody tr th {\n",
       "        vertical-align: top;\n",
       "    }\n",
       "\n",
       "    .dataframe thead th {\n",
       "        text-align: right;\n",
       "    }\n",
       "</style>\n",
       "<table border=\"1\" class=\"dataframe\">\n",
       "  <thead>\n",
       "    <tr style=\"text-align: right;\">\n",
       "      <th></th>\n",
       "      <th>การเศรษฐกิจ</th>\n",
       "    </tr>\n",
       "  </thead>\n",
       "  <tbody>\n",
       "    <tr>\n",
       "      <th>0</th>\n",
       "      <td>282325.2</td>\n",
       "    </tr>\n",
       "    <tr>\n",
       "      <th>1</th>\n",
       "      <td>296571.2</td>\n",
       "    </tr>\n",
       "    <tr>\n",
       "      <th>2</th>\n",
       "      <td>339783.5</td>\n",
       "    </tr>\n",
       "    <tr>\n",
       "      <th>3</th>\n",
       "      <td>332282.9</td>\n",
       "    </tr>\n",
       "    <tr>\n",
       "      <th>4</th>\n",
       "      <td>321879.7</td>\n",
       "    </tr>\n",
       "  </tbody>\n",
       "</table>\n",
       "</div>"
      ],
      "text/plain": [
       "   การเศรษฐกิจ\n",
       "0     282325.2\n",
       "1     296571.2\n",
       "2     339783.5\n",
       "3     332282.9\n",
       "4     321879.7"
      ]
     },
     "execution_count": 20,
     "metadata": {},
     "output_type": "execute_result"
    }
   ],
   "source": [
    "y_linear = df[['การเศรษฐกิจ']]\n",
    "y_linear.head()"
   ]
  },
  {
   "cell_type": "code",
   "execution_count": 21,
   "metadata": {},
   "outputs": [],
   "source": [
    "X_train, X_test, y_train, y_test = train_test_split(X_linear, y_linear, test_size=0.05, random_state=99)"
   ]
  },
  {
   "cell_type": "code",
   "execution_count": 22,
   "metadata": {},
   "outputs": [
    {
     "data": {
      "text/plain": [
       "LinearRegression()"
      ]
     },
     "execution_count": 22,
     "metadata": {},
     "output_type": "execute_result"
    }
   ],
   "source": [
    "lm = LinearRegression()\n",
    "lm.fit(X_train, y_train)"
   ]
  },
  {
   "cell_type": "code",
   "execution_count": 23,
   "metadata": {},
   "outputs": [
    {
     "data": {
      "text/plain": [
       "array([[-1.56484363,  8.42454796, 30.12684815,  0.        ]])"
      ]
     },
     "execution_count": 23,
     "metadata": {},
     "output_type": "execute_result"
    }
   ],
   "source": [
    "lm.coef_"
   ]
  },
  {
   "cell_type": "code",
   "execution_count": 24,
   "metadata": {},
   "outputs": [
    {
     "data": {
      "text/plain": [
       "array([-85489.72440508])"
      ]
     },
     "execution_count": 24,
     "metadata": {},
     "output_type": "execute_result"
    }
   ],
   "source": [
    "lm.intercept_"
   ]
  },
  {
   "cell_type": "code",
   "execution_count": 25,
   "metadata": {},
   "outputs": [
    {
     "data": {
      "text/plain": [
       "array([[524400.11034219],\n",
       "       [295109.95441599],\n",
       "       [418161.26249727],\n",
       "       [223241.86563781],\n",
       "       [660134.13873278],\n",
       "       [676656.74699126],\n",
       "       [547436.43613892],\n",
       "       [370929.94679973],\n",
       "       [366647.52222946],\n",
       "       [298715.77271101],\n",
       "       [529368.81832355],\n",
       "       [595836.23075848],\n",
       "       [459935.11849311],\n",
       "       [469587.67534837],\n",
       "       [366827.10438825],\n",
       "       [274667.99619181]])"
      ]
     },
     "execution_count": 25,
     "metadata": {},
     "output_type": "execute_result"
    }
   ],
   "source": [
    "predictions = lm.predict(X_train)\n",
    "predictions"
   ]
  },
  {
   "cell_type": "code",
   "execution_count": 26,
   "metadata": {},
   "outputs": [
    {
     "data": {
      "text/plain": [
       "0.9652863661082465"
      ]
     },
     "execution_count": 26,
     "metadata": {},
     "output_type": "execute_result"
    }
   ],
   "source": [
    "metrics.r2_score(y_train,predictions)"
   ]
  },
  {
   "cell_type": "code",
   "execution_count": 27,
   "metadata": {},
   "outputs": [
    {
     "data": {
      "text/plain": [
       "646963070.9216092"
      ]
     },
     "execution_count": 27,
     "metadata": {},
     "output_type": "execute_result"
    }
   ],
   "source": [
    "metrics.mean_squared_error(y_train,predictions)"
   ]
  },
  {
   "cell_type": "code",
   "execution_count": 28,
   "metadata": {},
   "outputs": [
    {
     "data": {
      "text/plain": [
       "25435.468757654322"
      ]
     },
     "execution_count": 28,
     "metadata": {},
     "output_type": "execute_result"
    }
   ],
   "source": [
    "metrics.mean_squared_error(y_train,predictions,squared=False)"
   ]
  },
  {
   "cell_type": "code",
   "execution_count": 29,
   "metadata": {},
   "outputs": [
    {
     "data": {
      "text/plain": [
       "22331.11063241613"
      ]
     },
     "execution_count": 29,
     "metadata": {},
     "output_type": "execute_result"
    }
   ],
   "source": [
    "metrics.mean_absolute_error(y_train,predictions)"
   ]
  },
  {
   "cell_type": "code",
   "execution_count": 30,
   "metadata": {},
   "outputs": [
    {
     "data": {
      "text/plain": [
       "0.05948886690239538"
      ]
     },
     "execution_count": 30,
     "metadata": {},
     "output_type": "execute_result"
    }
   ],
   "source": [
    "metrics.mean_absolute_percentage_error(y_train,predictions)"
   ]
  },
  {
   "cell_type": "code",
   "execution_count": 31,
   "metadata": {},
   "outputs": [
    {
     "data": {
      "text/html": [
       "<div>\n",
       "<style scoped>\n",
       "    .dataframe tbody tr th:only-of-type {\n",
       "        vertical-align: middle;\n",
       "    }\n",
       "\n",
       "    .dataframe tbody tr th {\n",
       "        vertical-align: top;\n",
       "    }\n",
       "\n",
       "    .dataframe thead th {\n",
       "        text-align: right;\n",
       "    }\n",
       "</style>\n",
       "<table border=\"1\" class=\"dataframe\">\n",
       "  <thead>\n",
       "    <tr style=\"text-align: right;\">\n",
       "      <th></th>\n",
       "      <th>กระทรวงการคลัง</th>\n",
       "      <th>กระทรวงเกษตรเเละสหกรณ์</th>\n",
       "      <th>กระทรวงพาณิชย์</th>\n",
       "      <th>const</th>\n",
       "    </tr>\n",
       "  </thead>\n",
       "  <tbody>\n",
       "    <tr>\n",
       "      <th>0</th>\n",
       "      <td>11.787008</td>\n",
       "      <td>10.879646</td>\n",
       "      <td>8.438335</td>\n",
       "      <td>1.0</td>\n",
       "    </tr>\n",
       "    <tr>\n",
       "      <th>1</th>\n",
       "      <td>11.850658</td>\n",
       "      <td>10.861518</td>\n",
       "      <td>8.446342</td>\n",
       "      <td>1.0</td>\n",
       "    </tr>\n",
       "    <tr>\n",
       "      <th>2</th>\n",
       "      <td>11.880145</td>\n",
       "      <td>10.917820</td>\n",
       "      <td>8.482560</td>\n",
       "      <td>1.0</td>\n",
       "    </tr>\n",
       "    <tr>\n",
       "      <th>3</th>\n",
       "      <td>12.060510</td>\n",
       "      <td>11.081724</td>\n",
       "      <td>8.670110</td>\n",
       "      <td>1.0</td>\n",
       "    </tr>\n",
       "    <tr>\n",
       "      <th>4</th>\n",
       "      <td>12.103467</td>\n",
       "      <td>11.085112</td>\n",
       "      <td>8.724651</td>\n",
       "      <td>1.0</td>\n",
       "    </tr>\n",
       "  </tbody>\n",
       "</table>\n",
       "</div>"
      ],
      "text/plain": [
       "   กระทรวงการคลัง  กระทรวงเกษตรเเละสหกรณ์  กระทรวงพาณิชย์  const\n",
       "0       11.787008               10.879646        8.438335    1.0\n",
       "1       11.850658               10.861518        8.446342    1.0\n",
       "2       11.880145               10.917820        8.482560    1.0\n",
       "3       12.060510               11.081724        8.670110    1.0\n",
       "4       12.103467               11.085112        8.724651    1.0"
      ]
     },
     "execution_count": 31,
     "metadata": {},
     "output_type": "execute_result"
    }
   ],
   "source": [
    "X_logarithm = np.log(df[['กระทรวงการคลัง','กระทรวงเกษตรเเละสหกรณ์','กระทรวงพาณิชย์']])\n",
    "X_logarithm = sm.add_constant(X_logarithm, prepend=False)\n",
    "X_logarithm.head()"
   ]
  },
  {
   "cell_type": "code",
   "execution_count": 32,
   "metadata": {},
   "outputs": [
    {
     "data": {
      "text/html": [
       "<div>\n",
       "<style scoped>\n",
       "    .dataframe tbody tr th:only-of-type {\n",
       "        vertical-align: middle;\n",
       "    }\n",
       "\n",
       "    .dataframe tbody tr th {\n",
       "        vertical-align: top;\n",
       "    }\n",
       "\n",
       "    .dataframe thead th {\n",
       "        text-align: right;\n",
       "    }\n",
       "</style>\n",
       "<table border=\"1\" class=\"dataframe\">\n",
       "  <thead>\n",
       "    <tr style=\"text-align: right;\">\n",
       "      <th></th>\n",
       "      <th>การเศรษฐกิจ</th>\n",
       "    </tr>\n",
       "  </thead>\n",
       "  <tbody>\n",
       "    <tr>\n",
       "      <th>0</th>\n",
       "      <td>282325.2</td>\n",
       "    </tr>\n",
       "    <tr>\n",
       "      <th>1</th>\n",
       "      <td>296571.2</td>\n",
       "    </tr>\n",
       "    <tr>\n",
       "      <th>2</th>\n",
       "      <td>339783.5</td>\n",
       "    </tr>\n",
       "    <tr>\n",
       "      <th>3</th>\n",
       "      <td>332282.9</td>\n",
       "    </tr>\n",
       "    <tr>\n",
       "      <th>4</th>\n",
       "      <td>321879.7</td>\n",
       "    </tr>\n",
       "  </tbody>\n",
       "</table>\n",
       "</div>"
      ],
      "text/plain": [
       "   การเศรษฐกิจ\n",
       "0     282325.2\n",
       "1     296571.2\n",
       "2     339783.5\n",
       "3     332282.9\n",
       "4     321879.7"
      ]
     },
     "execution_count": 32,
     "metadata": {},
     "output_type": "execute_result"
    }
   ],
   "source": [
    "y_logarithm = df[['การเศรษฐกิจ']]\n",
    "y_logarithm.head()"
   ]
  },
  {
   "cell_type": "code",
   "execution_count": 33,
   "metadata": {},
   "outputs": [],
   "source": [
    "X_train, X_test, y_train, y_test = train_test_split(X_logarithm, y_logarithm, test_size=0.05, random_state=99)"
   ]
  },
  {
   "cell_type": "code",
   "execution_count": 34,
   "metadata": {},
   "outputs": [
    {
     "data": {
      "text/plain": [
       "LinearRegression()"
      ]
     },
     "execution_count": 34,
     "metadata": {},
     "output_type": "execute_result"
    }
   ],
   "source": [
    "lm = LinearRegression()\n",
    "lm.fit(X_train, y_train)"
   ]
  },
  {
   "cell_type": "code",
   "execution_count": 35,
   "metadata": {},
   "outputs": [
    {
     "data": {
      "text/plain": [
       "array([[-229232.16661113,  670441.44127966,   47665.74700293,\n",
       "              0.        ]])"
      ]
     },
     "execution_count": 35,
     "metadata": {},
     "output_type": "execute_result"
    }
   ],
   "source": [
    "lm.coef_"
   ]
  },
  {
   "cell_type": "code",
   "execution_count": 36,
   "metadata": {},
   "outputs": [
    {
     "data": {
      "text/plain": [
       "array([-4700910.80403758])"
      ]
     },
     "execution_count": 36,
     "metadata": {},
     "output_type": "execute_result"
    }
   ],
   "source": [
    "lm.intercept_"
   ]
  },
  {
   "cell_type": "code",
   "execution_count": 37,
   "metadata": {},
   "outputs": [
    {
     "data": {
      "text/plain": [
       "array([[519015.38999216],\n",
       "       [293512.85975674],\n",
       "       [428499.77244082],\n",
       "       [210412.39222999],\n",
       "       [654228.6038022 ],\n",
       "       [657479.6568716 ],\n",
       "       [546087.87869911],\n",
       "       [384464.43012526],\n",
       "       [372370.44285656],\n",
       "       [299864.61387122],\n",
       "       [538935.34155531],\n",
       "       [601078.57049581],\n",
       "       [471362.4905808 ],\n",
       "       [455848.00573248],\n",
       "       [377346.37813241],\n",
       "       [267149.87285751]])"
      ]
     },
     "execution_count": 37,
     "metadata": {},
     "output_type": "execute_result"
    }
   ],
   "source": [
    "predictions = lm.predict(X_train)\n",
    "predictions"
   ]
  },
  {
   "cell_type": "code",
   "execution_count": 38,
   "metadata": {},
   "outputs": [
    {
     "data": {
      "text/plain": [
       "0.9489440511299098"
      ]
     },
     "execution_count": 38,
     "metadata": {},
     "output_type": "execute_result"
    }
   ],
   "source": [
    "metrics.r2_score(y_train,predictions)"
   ]
  },
  {
   "cell_type": "code",
   "execution_count": 39,
   "metadata": {},
   "outputs": [
    {
     "data": {
      "text/plain": [
       "951537184.8654864"
      ]
     },
     "execution_count": 39,
     "metadata": {},
     "output_type": "execute_result"
    }
   ],
   "source": [
    "metrics.mean_squared_error(y_train,predictions)"
   ]
  },
  {
   "cell_type": "code",
   "execution_count": 40,
   "metadata": {},
   "outputs": [
    {
     "data": {
      "text/plain": [
       "30846.996366996354"
      ]
     },
     "execution_count": 40,
     "metadata": {},
     "output_type": "execute_result"
    }
   ],
   "source": [
    "metrics.mean_squared_error(y_train,predictions,squared=False)"
   ]
  },
  {
   "cell_type": "code",
   "execution_count": 41,
   "metadata": {},
   "outputs": [
    {
     "data": {
      "text/plain": [
       "26543.788156746858"
      ]
     },
     "execution_count": 41,
     "metadata": {},
     "output_type": "execute_result"
    }
   ],
   "source": [
    "metrics.mean_absolute_error(y_train,predictions)"
   ]
  },
  {
   "cell_type": "code",
   "execution_count": 42,
   "metadata": {},
   "outputs": [
    {
     "data": {
      "text/plain": [
       "0.07166260969803873"
      ]
     },
     "execution_count": 42,
     "metadata": {},
     "output_type": "execute_result"
    }
   ],
   "source": [
    "metrics.mean_absolute_percentage_error(y_train,predictions)"
   ]
  },
  {
   "cell_type": "code",
   "execution_count": 43,
   "metadata": {},
   "outputs": [
    {
     "data": {
      "text/html": [
       "<div>\n",
       "<style scoped>\n",
       "    .dataframe tbody tr th:only-of-type {\n",
       "        vertical-align: middle;\n",
       "    }\n",
       "\n",
       "    .dataframe tbody tr th {\n",
       "        vertical-align: top;\n",
       "    }\n",
       "\n",
       "    .dataframe thead th {\n",
       "        text-align: right;\n",
       "    }\n",
       "</style>\n",
       "<table border=\"1\" class=\"dataframe\">\n",
       "  <thead>\n",
       "    <tr style=\"text-align: right;\">\n",
       "      <th></th>\n",
       "      <th>กระทรวงการคลัง</th>\n",
       "      <th>กระทรวงเกษตรเเละสหกรณ์</th>\n",
       "      <th>กระทรวงพาณิชย์</th>\n",
       "      <th>const</th>\n",
       "    </tr>\n",
       "  </thead>\n",
       "  <tbody>\n",
       "    <tr>\n",
       "      <th>0</th>\n",
       "      <td>131532.3509</td>\n",
       "      <td>53084.8043</td>\n",
       "      <td>4620.8538</td>\n",
       "      <td>1.0</td>\n",
       "    </tr>\n",
       "    <tr>\n",
       "      <th>1</th>\n",
       "      <td>140176.6018</td>\n",
       "      <td>52131.1367</td>\n",
       "      <td>4658.0021</td>\n",
       "      <td>1.0</td>\n",
       "    </tr>\n",
       "    <tr>\n",
       "      <th>2</th>\n",
       "      <td>144371.5171</td>\n",
       "      <td>55150.4657</td>\n",
       "      <td>4829.7984</td>\n",
       "      <td>1.0</td>\n",
       "    </tr>\n",
       "    <tr>\n",
       "      <th>3</th>\n",
       "      <td>172907.0925</td>\n",
       "      <td>64972.7696</td>\n",
       "      <td>5826.1381</td>\n",
       "      <td>1.0</td>\n",
       "    </tr>\n",
       "    <tr>\n",
       "      <th>4</th>\n",
       "      <td>180496.5578</td>\n",
       "      <td>65193.2776</td>\n",
       "      <td>6152.7260</td>\n",
       "      <td>1.0</td>\n",
       "    </tr>\n",
       "  </tbody>\n",
       "</table>\n",
       "</div>"
      ],
      "text/plain": [
       "   กระทรวงการคลัง  กระทรวงเกษตรเเละสหกรณ์  กระทรวงพาณิชย์  const\n",
       "0     131532.3509              53084.8043       4620.8538    1.0\n",
       "1     140176.6018              52131.1367       4658.0021    1.0\n",
       "2     144371.5171              55150.4657       4829.7984    1.0\n",
       "3     172907.0925              64972.7696       5826.1381    1.0\n",
       "4     180496.5578              65193.2776       6152.7260    1.0"
      ]
     },
     "execution_count": 43,
     "metadata": {},
     "output_type": "execute_result"
    }
   ],
   "source": [
    "X_expo = df[['กระทรวงการคลัง','กระทรวงเกษตรเเละสหกรณ์','กระทรวงพาณิชย์']]\n",
    "X_expo = sm.add_constant(X_expo, prepend=False)\n",
    "X_expo.head()"
   ]
  },
  {
   "cell_type": "code",
   "execution_count": 44,
   "metadata": {},
   "outputs": [
    {
     "data": {
      "text/html": [
       "<div>\n",
       "<style scoped>\n",
       "    .dataframe tbody tr th:only-of-type {\n",
       "        vertical-align: middle;\n",
       "    }\n",
       "\n",
       "    .dataframe tbody tr th {\n",
       "        vertical-align: top;\n",
       "    }\n",
       "\n",
       "    .dataframe thead th {\n",
       "        text-align: right;\n",
       "    }\n",
       "</style>\n",
       "<table border=\"1\" class=\"dataframe\">\n",
       "  <thead>\n",
       "    <tr style=\"text-align: right;\">\n",
       "      <th></th>\n",
       "      <th>การเศรษฐกิจ</th>\n",
       "    </tr>\n",
       "  </thead>\n",
       "  <tbody>\n",
       "    <tr>\n",
       "      <th>0</th>\n",
       "      <td>12.550815</td>\n",
       "    </tr>\n",
       "    <tr>\n",
       "      <th>1</th>\n",
       "      <td>12.600043</td>\n",
       "    </tr>\n",
       "    <tr>\n",
       "      <th>2</th>\n",
       "      <td>12.736064</td>\n",
       "    </tr>\n",
       "    <tr>\n",
       "      <th>3</th>\n",
       "      <td>12.713742</td>\n",
       "    </tr>\n",
       "    <tr>\n",
       "      <th>4</th>\n",
       "      <td>12.681933</td>\n",
       "    </tr>\n",
       "  </tbody>\n",
       "</table>\n",
       "</div>"
      ],
      "text/plain": [
       "   การเศรษฐกิจ\n",
       "0    12.550815\n",
       "1    12.600043\n",
       "2    12.736064\n",
       "3    12.713742\n",
       "4    12.681933"
      ]
     },
     "execution_count": 44,
     "metadata": {},
     "output_type": "execute_result"
    }
   ],
   "source": [
    "y_expo = np.log(df[['การเศรษฐกิจ']])\n",
    "y_expo.head()"
   ]
  },
  {
   "cell_type": "code",
   "execution_count": 45,
   "metadata": {},
   "outputs": [],
   "source": [
    "X_train, X_test, y_train, y_test = train_test_split(X_expo, y_expo, test_size=0.05, random_state=99)"
   ]
  },
  {
   "cell_type": "code",
   "execution_count": 46,
   "metadata": {},
   "outputs": [
    {
     "data": {
      "text/plain": [
       "LinearRegression()"
      ]
     },
     "execution_count": 46,
     "metadata": {},
     "output_type": "execute_result"
    }
   ],
   "source": [
    "lm = LinearRegression()\n",
    "lm.fit(X_train, y_train)"
   ]
  },
  {
   "cell_type": "code",
   "execution_count": 47,
   "metadata": {},
   "outputs": [
    {
     "data": {
      "text/plain": [
       "array([[-4.87833667e-06,  1.94234234e-05,  1.10703915e-04,\n",
       "         0.00000000e+00]])"
      ]
     },
     "execution_count": 47,
     "metadata": {},
     "output_type": "execute_result"
    }
   ],
   "source": [
    "lm.coef_"
   ]
  },
  {
   "cell_type": "code",
   "execution_count": 48,
   "metadata": {},
   "outputs": [
    {
     "data": {
      "text/plain": [
       "array([11.71589659])"
      ]
     },
     "execution_count": 48,
     "metadata": {},
     "output_type": "execute_result"
    }
   ],
   "source": [
    "lm.intercept_"
   ]
  },
  {
   "cell_type": "code",
   "execution_count": 49,
   "metadata": {},
   "outputs": [
    {
     "data": {
      "text/plain": [
       "array([[13.18482798],\n",
       "       [12.61687274],\n",
       "       [12.89625808],\n",
       "       [12.41149233],\n",
       "       [13.4104688 ],\n",
       "       [13.4673972 ],\n",
       "       [13.2187629 ],\n",
       "       [12.77573365],\n",
       "       [12.7827811 ],\n",
       "       [12.61749216],\n",
       "       [13.14704026],\n",
       "       [13.27581409],\n",
       "       [13.00213728],\n",
       "       [13.07254134],\n",
       "       [12.77936749],\n",
       "       [12.56029214]])"
      ]
     },
     "execution_count": 49,
     "metadata": {},
     "output_type": "execute_result"
    }
   ],
   "source": [
    "predictions = lm.predict(X_train)\n",
    "predictions"
   ]
  },
  {
   "cell_type": "code",
   "execution_count": 50,
   "metadata": {},
   "outputs": [
    {
     "data": {
      "text/plain": [
       "0.9655736405630544"
      ]
     },
     "execution_count": 50,
     "metadata": {},
     "output_type": "execute_result"
    }
   ],
   "source": [
    "metrics.r2_score(y_train,predictions)"
   ]
  },
  {
   "cell_type": "code",
   "execution_count": 51,
   "metadata": {},
   "outputs": [
    {
     "data": {
      "text/plain": [
       "0.0033949821907344473"
      ]
     },
     "execution_count": 51,
     "metadata": {},
     "output_type": "execute_result"
    }
   ],
   "source": [
    "metrics.mean_squared_error(y_train,predictions)"
   ]
  },
  {
   "cell_type": "code",
   "execution_count": 52,
   "metadata": {},
   "outputs": [
    {
     "data": {
      "text/plain": [
       "0.05826647570202309"
      ]
     },
     "execution_count": 52,
     "metadata": {},
     "output_type": "execute_result"
    }
   ],
   "source": [
    "metrics.mean_squared_error(y_train,predictions,squared=False)"
   ]
  },
  {
   "cell_type": "code",
   "execution_count": 53,
   "metadata": {},
   "outputs": [
    {
     "data": {
      "text/plain": [
       "0.05028283868882755"
      ]
     },
     "execution_count": 53,
     "metadata": {},
     "output_type": "execute_result"
    }
   ],
   "source": [
    "metrics.mean_absolute_error(y_train,predictions)"
   ]
  },
  {
   "cell_type": "code",
   "execution_count": 54,
   "metadata": {},
   "outputs": [
    {
     "data": {
      "text/plain": [
       "0.0038965058045965276"
      ]
     },
     "execution_count": 54,
     "metadata": {},
     "output_type": "execute_result"
    }
   ],
   "source": [
    "metrics.mean_absolute_percentage_error(y_train,predictions)"
   ]
  },
  {
   "cell_type": "code",
   "execution_count": 55,
   "metadata": {},
   "outputs": [
    {
     "data": {
      "text/html": [
       "<div>\n",
       "<style scoped>\n",
       "    .dataframe tbody tr th:only-of-type {\n",
       "        vertical-align: middle;\n",
       "    }\n",
       "\n",
       "    .dataframe tbody tr th {\n",
       "        vertical-align: top;\n",
       "    }\n",
       "\n",
       "    .dataframe thead th {\n",
       "        text-align: right;\n",
       "    }\n",
       "</style>\n",
       "<table border=\"1\" class=\"dataframe\">\n",
       "  <thead>\n",
       "    <tr style=\"text-align: right;\">\n",
       "      <th></th>\n",
       "      <th>กระทรวงการคลัง</th>\n",
       "      <th>กระทรวงเกษตรเเละสหกรณ์</th>\n",
       "      <th>กระทรวงพาณิชย์</th>\n",
       "      <th>const</th>\n",
       "    </tr>\n",
       "  </thead>\n",
       "  <tbody>\n",
       "    <tr>\n",
       "      <th>0</th>\n",
       "      <td>11.787008</td>\n",
       "      <td>10.879646</td>\n",
       "      <td>8.438335</td>\n",
       "      <td>1.0</td>\n",
       "    </tr>\n",
       "    <tr>\n",
       "      <th>1</th>\n",
       "      <td>11.850658</td>\n",
       "      <td>10.861518</td>\n",
       "      <td>8.446342</td>\n",
       "      <td>1.0</td>\n",
       "    </tr>\n",
       "    <tr>\n",
       "      <th>2</th>\n",
       "      <td>11.880145</td>\n",
       "      <td>10.917820</td>\n",
       "      <td>8.482560</td>\n",
       "      <td>1.0</td>\n",
       "    </tr>\n",
       "    <tr>\n",
       "      <th>3</th>\n",
       "      <td>12.060510</td>\n",
       "      <td>11.081724</td>\n",
       "      <td>8.670110</td>\n",
       "      <td>1.0</td>\n",
       "    </tr>\n",
       "    <tr>\n",
       "      <th>4</th>\n",
       "      <td>12.103467</td>\n",
       "      <td>11.085112</td>\n",
       "      <td>8.724651</td>\n",
       "      <td>1.0</td>\n",
       "    </tr>\n",
       "  </tbody>\n",
       "</table>\n",
       "</div>"
      ],
      "text/plain": [
       "   กระทรวงการคลัง  กระทรวงเกษตรเเละสหกรณ์  กระทรวงพาณิชย์  const\n",
       "0       11.787008               10.879646        8.438335    1.0\n",
       "1       11.850658               10.861518        8.446342    1.0\n",
       "2       11.880145               10.917820        8.482560    1.0\n",
       "3       12.060510               11.081724        8.670110    1.0\n",
       "4       12.103467               11.085112        8.724651    1.0"
      ]
     },
     "execution_count": 55,
     "metadata": {},
     "output_type": "execute_result"
    }
   ],
   "source": [
    "X_power = np.log(df[['กระทรวงการคลัง','กระทรวงเกษตรเเละสหกรณ์','กระทรวงพาณิชย์']])\n",
    "X_power = sm.add_constant(X_power, prepend=False)\n",
    "X_power.head()"
   ]
  },
  {
   "cell_type": "code",
   "execution_count": 56,
   "metadata": {},
   "outputs": [
    {
     "data": {
      "text/html": [
       "<div>\n",
       "<style scoped>\n",
       "    .dataframe tbody tr th:only-of-type {\n",
       "        vertical-align: middle;\n",
       "    }\n",
       "\n",
       "    .dataframe tbody tr th {\n",
       "        vertical-align: top;\n",
       "    }\n",
       "\n",
       "    .dataframe thead th {\n",
       "        text-align: right;\n",
       "    }\n",
       "</style>\n",
       "<table border=\"1\" class=\"dataframe\">\n",
       "  <thead>\n",
       "    <tr style=\"text-align: right;\">\n",
       "      <th></th>\n",
       "      <th>การเศรษฐกิจ</th>\n",
       "    </tr>\n",
       "  </thead>\n",
       "  <tbody>\n",
       "    <tr>\n",
       "      <th>0</th>\n",
       "      <td>12.550815</td>\n",
       "    </tr>\n",
       "    <tr>\n",
       "      <th>1</th>\n",
       "      <td>12.600043</td>\n",
       "    </tr>\n",
       "    <tr>\n",
       "      <th>2</th>\n",
       "      <td>12.736064</td>\n",
       "    </tr>\n",
       "    <tr>\n",
       "      <th>3</th>\n",
       "      <td>12.713742</td>\n",
       "    </tr>\n",
       "    <tr>\n",
       "      <th>4</th>\n",
       "      <td>12.681933</td>\n",
       "    </tr>\n",
       "  </tbody>\n",
       "</table>\n",
       "</div>"
      ],
      "text/plain": [
       "   การเศรษฐกิจ\n",
       "0    12.550815\n",
       "1    12.600043\n",
       "2    12.736064\n",
       "3    12.713742\n",
       "4    12.681933"
      ]
     },
     "execution_count": 56,
     "metadata": {},
     "output_type": "execute_result"
    }
   ],
   "source": [
    "y_power = np.log(df[['การเศรษฐกิจ']])\n",
    "y_power.head()"
   ]
  },
  {
   "cell_type": "code",
   "execution_count": 57,
   "metadata": {},
   "outputs": [],
   "source": [
    "X_train, X_test, y_train, y_test = train_test_split(X_power, y_power, test_size=0.05, random_state=99)"
   ]
  },
  {
   "cell_type": "code",
   "execution_count": 58,
   "metadata": {},
   "outputs": [
    {
     "data": {
      "text/plain": [
       "LinearRegression()"
      ]
     },
     "execution_count": 58,
     "metadata": {},
     "output_type": "execute_result"
    }
   ],
   "source": [
    "lm = LinearRegression()\n",
    "lm.fit(X_train, y_train)"
   ]
  },
  {
   "cell_type": "code",
   "execution_count": 59,
   "metadata": {},
   "outputs": [
    {
     "data": {
      "text/plain": [
       "array([[-0.78986965,  1.55136412,  0.38784927,  0.        ]])"
      ]
     },
     "execution_count": 59,
     "metadata": {},
     "output_type": "execute_result"
    }
   ],
   "source": [
    "lm.coef_"
   ]
  },
  {
   "cell_type": "code",
   "execution_count": 60,
   "metadata": {},
   "outputs": [
    {
     "data": {
      "text/plain": [
       "array([1.77443038])"
      ]
     },
     "execution_count": 60,
     "metadata": {},
     "output_type": "execute_result"
    }
   ],
   "source": [
    "lm.intercept_"
   ]
  },
  {
   "cell_type": "code",
   "execution_count": 61,
   "metadata": {},
   "outputs": [
    {
     "data": {
      "text/plain": [
       "array([[13.17234617],\n",
       "       [12.6153248 ],\n",
       "       [12.91891642],\n",
       "       [12.37859136],\n",
       "       [13.40165845],\n",
       "       [13.42762997],\n",
       "       [13.21493106],\n",
       "       [12.80511211],\n",
       "       [12.79516292],\n",
       "       [12.61813385],\n",
       "       [13.16912907],\n",
       "       [13.2910828 ],\n",
       "       [13.02815743],\n",
       "       [13.04038802],\n",
       "       [12.80268376],\n",
       "       [12.54003136]])"
      ]
     },
     "execution_count": 61,
     "metadata": {},
     "output_type": "execute_result"
    }
   ],
   "source": [
    "predictions = lm.predict(X_train)\n",
    "predictions"
   ]
  },
  {
   "cell_type": "code",
   "execution_count": 62,
   "metadata": {},
   "outputs": [
    {
     "data": {
      "text/plain": [
       "0.959989929104159"
      ]
     },
     "execution_count": 62,
     "metadata": {},
     "output_type": "execute_result"
    }
   ],
   "source": [
    "metrics.r2_score(y_train,predictions)"
   ]
  },
  {
   "cell_type": "code",
   "execution_count": 63,
   "metadata": {},
   "outputs": [
    {
     "data": {
      "text/plain": [
       "0.003945624235702053"
      ]
     },
     "execution_count": 63,
     "metadata": {},
     "output_type": "execute_result"
    }
   ],
   "source": [
    "metrics.mean_squared_error(y_train,predictions)"
   ]
  },
  {
   "cell_type": "code",
   "execution_count": 64,
   "metadata": {},
   "outputs": [
    {
     "data": {
      "text/plain": [
       "0.06281420409192537"
      ]
     },
     "execution_count": 64,
     "metadata": {},
     "output_type": "execute_result"
    }
   ],
   "source": [
    "metrics.mean_squared_error(y_train,predictions,squared=False)"
   ]
  },
  {
   "cell_type": "code",
   "execution_count": 65,
   "metadata": {},
   "outputs": [
    {
     "data": {
      "text/plain": [
       "0.054763047187149305"
      ]
     },
     "execution_count": 65,
     "metadata": {},
     "output_type": "execute_result"
    }
   ],
   "source": [
    "metrics.mean_absolute_error(y_train,predictions)"
   ]
  },
  {
   "cell_type": "code",
   "execution_count": 66,
   "metadata": {},
   "outputs": [
    {
     "data": {
      "text/plain": [
       "0.004265681868803963"
      ]
     },
     "execution_count": 66,
     "metadata": {},
     "output_type": "execute_result"
    }
   ],
   "source": [
    "metrics.mean_absolute_percentage_error(y_train,predictions)"
   ]
  },
  {
   "cell_type": "markdown",
   "metadata": {},
   "source": [
    "## Part 4"
   ]
  },
  {
   "cell_type": "code",
   "execution_count": 67,
   "metadata": {},
   "outputs": [
    {
     "data": {
      "text/html": [
       "<div>\n",
       "<style scoped>\n",
       "    .dataframe tbody tr th:only-of-type {\n",
       "        vertical-align: middle;\n",
       "    }\n",
       "\n",
       "    .dataframe tbody tr th {\n",
       "        vertical-align: top;\n",
       "    }\n",
       "\n",
       "    .dataframe thead th {\n",
       "        text-align: right;\n",
       "    }\n",
       "</style>\n",
       "<table border=\"1\" class=\"dataframe\">\n",
       "  <thead>\n",
       "    <tr style=\"text-align: right;\">\n",
       "      <th></th>\n",
       "      <th>ปี</th>\n",
       "      <th>เงินคงคลัง</th>\n",
       "      <th>ตราสารหนี้</th>\n",
       "      <th>พันธบัตร</th>\n",
       "      <th>ตั๋วสัญญาใช้เงิน</th>\n",
       "      <th>เงินกู้ยืม</th>\n",
       "      <th>อื่นๆ</th>\n",
       "    </tr>\n",
       "  </thead>\n",
       "  <tbody>\n",
       "    <tr>\n",
       "      <th>0</th>\n",
       "      <td>2555</td>\n",
       "      <td>268043</td>\n",
       "      <td>3456129</td>\n",
       "      <td>3023700</td>\n",
       "      <td>412435</td>\n",
       "      <td>35581</td>\n",
       "      <td>19994</td>\n",
       "    </tr>\n",
       "    <tr>\n",
       "      <th>1</th>\n",
       "      <td>2556</td>\n",
       "      <td>325728</td>\n",
       "      <td>3724507</td>\n",
       "      <td>3334162</td>\n",
       "      <td>290325</td>\n",
       "      <td>51733</td>\n",
       "      <td>20021</td>\n",
       "    </tr>\n",
       "    <tr>\n",
       "      <th>2</th>\n",
       "      <td>2557</td>\n",
       "      <td>179324</td>\n",
       "      <td>3804725</td>\n",
       "      <td>3353070</td>\n",
       "      <td>371691</td>\n",
       "      <td>94149</td>\n",
       "      <td>19964</td>\n",
       "    </tr>\n",
       "    <tr>\n",
       "      <th>3</th>\n",
       "      <td>2558</td>\n",
       "      <td>386497</td>\n",
       "      <td>4205177</td>\n",
       "      <td>3720772</td>\n",
       "      <td>296801</td>\n",
       "      <td>143787</td>\n",
       "      <td>19903</td>\n",
       "    </tr>\n",
       "    <tr>\n",
       "      <th>4</th>\n",
       "      <td>2559</td>\n",
       "      <td>74907</td>\n",
       "      <td>4354416</td>\n",
       "      <td>4016102</td>\n",
       "      <td>298397</td>\n",
       "      <td>27636</td>\n",
       "      <td>19918</td>\n",
       "    </tr>\n",
       "    <tr>\n",
       "      <th>5</th>\n",
       "      <td>2560</td>\n",
       "      <td>180910</td>\n",
       "      <td>4849028</td>\n",
       "      <td>4296970</td>\n",
       "      <td>494635</td>\n",
       "      <td>101781</td>\n",
       "      <td>19923</td>\n",
       "    </tr>\n",
       "    <tr>\n",
       "      <th>6</th>\n",
       "      <td>2561</td>\n",
       "      <td>379898</td>\n",
       "      <td>5343729</td>\n",
       "      <td>4737808</td>\n",
       "      <td>585998</td>\n",
       "      <td>142233</td>\n",
       "      <td>19923</td>\n",
       "    </tr>\n",
       "    <tr>\n",
       "      <th>7</th>\n",
       "      <td>2562</td>\n",
       "      <td>316370</td>\n",
       "      <td>5502183</td>\n",
       "      <td>4939752</td>\n",
       "      <td>542508</td>\n",
       "      <td>173631</td>\n",
       "      <td>19923</td>\n",
       "    </tr>\n",
       "    <tr>\n",
       "      <th>8</th>\n",
       "      <td>2563</td>\n",
       "      <td>473001</td>\n",
       "      <td>6769725</td>\n",
       "      <td>5581029</td>\n",
       "      <td>733786</td>\n",
       "      <td>213567</td>\n",
       "      <td>15953</td>\n",
       "    </tr>\n",
       "  </tbody>\n",
       "</table>\n",
       "</div>"
      ],
      "text/plain": [
       "     ปี  เงินคงคลัง  ตราสารหนี้  พันธบัตร  ตั๋วสัญญาใช้เงิน  เงินกู้ยืม  อื่นๆ\n",
       "0  2555      268043     3456129   3023700            412435       35581  19994\n",
       "1  2556      325728     3724507   3334162            290325       51733  20021\n",
       "2  2557      179324     3804725   3353070            371691       94149  19964\n",
       "3  2558      386497     4205177   3720772            296801      143787  19903\n",
       "4  2559       74907     4354416   4016102            298397       27636  19918\n",
       "5  2560      180910     4849028   4296970            494635      101781  19923\n",
       "6  2561      379898     5343729   4737808            585998      142233  19923\n",
       "7  2562      316370     5502183   4939752            542508      173631  19923\n",
       "8  2563      473001     6769725   5581029            733786      213567  15953"
      ]
     },
     "execution_count": 67,
     "metadata": {},
     "output_type": "execute_result"
    }
   ],
   "source": [
    "df_finance = pd.read_excel(\"ยอดคงค้างสินทรัพย์และหนี้สินของรัฐบาลในประเทศ.xlsx\")\n",
    "df_finance"
   ]
  },
  {
   "cell_type": "code",
   "execution_count": 68,
   "metadata": {},
   "outputs": [],
   "source": [
    "df_temp = df_budget[['ปี','กระทรวงการคลัง']][df_budget['ปี']>=2555]\n",
    "df_temp.reset_index(drop=True,inplace=True)"
   ]
  },
  {
   "cell_type": "code",
   "execution_count": 69,
   "metadata": {},
   "outputs": [
    {
     "data": {
      "text/html": [
       "<div>\n",
       "<style scoped>\n",
       "    .dataframe tbody tr th:only-of-type {\n",
       "        vertical-align: middle;\n",
       "    }\n",
       "\n",
       "    .dataframe tbody tr th {\n",
       "        vertical-align: top;\n",
       "    }\n",
       "\n",
       "    .dataframe thead th {\n",
       "        text-align: right;\n",
       "    }\n",
       "</style>\n",
       "<table border=\"1\" class=\"dataframe\">\n",
       "  <thead>\n",
       "    <tr style=\"text-align: right;\">\n",
       "      <th></th>\n",
       "      <th>ปี</th>\n",
       "      <th>กระทรวงการคลัง</th>\n",
       "    </tr>\n",
       "  </thead>\n",
       "  <tbody>\n",
       "    <tr>\n",
       "      <th>0</th>\n",
       "      <td>2555</td>\n",
       "      <td>191415.1</td>\n",
       "    </tr>\n",
       "    <tr>\n",
       "      <th>1</th>\n",
       "      <td>2556</td>\n",
       "      <td>180707.9</td>\n",
       "    </tr>\n",
       "    <tr>\n",
       "      <th>2</th>\n",
       "      <td>2557</td>\n",
       "      <td>228796.6</td>\n",
       "    </tr>\n",
       "    <tr>\n",
       "      <th>3</th>\n",
       "      <td>2558</td>\n",
       "      <td>185852.2</td>\n",
       "    </tr>\n",
       "    <tr>\n",
       "      <th>4</th>\n",
       "      <td>2559</td>\n",
       "      <td>199174.1</td>\n",
       "    </tr>\n",
       "    <tr>\n",
       "      <th>5</th>\n",
       "      <td>2560</td>\n",
       "      <td>217713.6</td>\n",
       "    </tr>\n",
       "    <tr>\n",
       "      <th>6</th>\n",
       "      <td>2561</td>\n",
       "      <td>238241.6</td>\n",
       "    </tr>\n",
       "    <tr>\n",
       "      <th>7</th>\n",
       "      <td>2562</td>\n",
       "      <td>242948.0</td>\n",
       "    </tr>\n",
       "    <tr>\n",
       "      <th>8</th>\n",
       "      <td>2563</td>\n",
       "      <td>249676.0</td>\n",
       "    </tr>\n",
       "  </tbody>\n",
       "</table>\n",
       "</div>"
      ],
      "text/plain": [
       "     ปี  กระทรวงการคลัง\n",
       "0  2555        191415.1\n",
       "1  2556        180707.9\n",
       "2  2557        228796.6\n",
       "3  2558        185852.2\n",
       "4  2559        199174.1\n",
       "5  2560        217713.6\n",
       "6  2561        238241.6\n",
       "7  2562        242948.0\n",
       "8  2563        249676.0"
      ]
     },
     "execution_count": 69,
     "metadata": {},
     "output_type": "execute_result"
    }
   ],
   "source": [
    "df_temp"
   ]
  },
  {
   "cell_type": "code",
   "execution_count": 70,
   "metadata": {},
   "outputs": [
    {
     "data": {
      "text/html": [
       "<div>\n",
       "<style scoped>\n",
       "    .dataframe tbody tr th:only-of-type {\n",
       "        vertical-align: middle;\n",
       "    }\n",
       "\n",
       "    .dataframe tbody tr th {\n",
       "        vertical-align: top;\n",
       "    }\n",
       "\n",
       "    .dataframe thead th {\n",
       "        text-align: right;\n",
       "    }\n",
       "</style>\n",
       "<table border=\"1\" class=\"dataframe\">\n",
       "  <thead>\n",
       "    <tr style=\"text-align: right;\">\n",
       "      <th></th>\n",
       "      <th>ปี</th>\n",
       "      <th>เงินคงคลัง</th>\n",
       "      <th>ตราสารหนี้</th>\n",
       "      <th>พันธบัตร</th>\n",
       "      <th>ตั๋วสัญญาใช้เงิน</th>\n",
       "      <th>เงินกู้ยืม</th>\n",
       "      <th>อื่นๆ</th>\n",
       "      <th>กระทรวงการคลัง</th>\n",
       "    </tr>\n",
       "  </thead>\n",
       "  <tbody>\n",
       "    <tr>\n",
       "      <th>0</th>\n",
       "      <td>2555</td>\n",
       "      <td>268043</td>\n",
       "      <td>3456129</td>\n",
       "      <td>3023700</td>\n",
       "      <td>412435</td>\n",
       "      <td>35581</td>\n",
       "      <td>19994</td>\n",
       "      <td>191415.1</td>\n",
       "    </tr>\n",
       "    <tr>\n",
       "      <th>1</th>\n",
       "      <td>2556</td>\n",
       "      <td>325728</td>\n",
       "      <td>3724507</td>\n",
       "      <td>3334162</td>\n",
       "      <td>290325</td>\n",
       "      <td>51733</td>\n",
       "      <td>20021</td>\n",
       "      <td>180707.9</td>\n",
       "    </tr>\n",
       "    <tr>\n",
       "      <th>2</th>\n",
       "      <td>2557</td>\n",
       "      <td>179324</td>\n",
       "      <td>3804725</td>\n",
       "      <td>3353070</td>\n",
       "      <td>371691</td>\n",
       "      <td>94149</td>\n",
       "      <td>19964</td>\n",
       "      <td>228796.6</td>\n",
       "    </tr>\n",
       "    <tr>\n",
       "      <th>3</th>\n",
       "      <td>2558</td>\n",
       "      <td>386497</td>\n",
       "      <td>4205177</td>\n",
       "      <td>3720772</td>\n",
       "      <td>296801</td>\n",
       "      <td>143787</td>\n",
       "      <td>19903</td>\n",
       "      <td>185852.2</td>\n",
       "    </tr>\n",
       "    <tr>\n",
       "      <th>4</th>\n",
       "      <td>2559</td>\n",
       "      <td>74907</td>\n",
       "      <td>4354416</td>\n",
       "      <td>4016102</td>\n",
       "      <td>298397</td>\n",
       "      <td>27636</td>\n",
       "      <td>19918</td>\n",
       "      <td>199174.1</td>\n",
       "    </tr>\n",
       "  </tbody>\n",
       "</table>\n",
       "</div>"
      ],
      "text/plain": [
       "     ปี  เงินคงคลัง  ตราสารหนี้  พันธบัตร  ตั๋วสัญญาใช้เงิน  เงินกู้ยืม  \\\n",
       "0  2555      268043     3456129   3023700            412435       35581   \n",
       "1  2556      325728     3724507   3334162            290325       51733   \n",
       "2  2557      179324     3804725   3353070            371691       94149   \n",
       "3  2558      386497     4205177   3720772            296801      143787   \n",
       "4  2559       74907     4354416   4016102            298397       27636   \n",
       "\n",
       "   อื่นๆ  กระทรวงการคลัง  \n",
       "0  19994        191415.1  \n",
       "1  20021        180707.9  \n",
       "2  19964        228796.6  \n",
       "3  19903        185852.2  \n",
       "4  19918        199174.1  "
      ]
     },
     "execution_count": 70,
     "metadata": {},
     "output_type": "execute_result"
    }
   ],
   "source": [
    "df_finance = df_finance.join(df_temp[['กระทรวงการคลัง']])\n",
    "df_finance.head()"
   ]
  },
  {
   "cell_type": "code",
   "execution_count": 71,
   "metadata": {},
   "outputs": [
    {
     "data": {
      "text/plain": [
       "Index(['ปี', 'เงินคงคลัง', 'ตราสารหนี้', 'พันธบัตร', 'ตั๋วสัญญาใช้เงิน',\n",
       "       'เงินกู้ยืม', 'อื่นๆ', 'กระทรวงการคลัง'],\n",
       "      dtype='object')"
      ]
     },
     "execution_count": 71,
     "metadata": {},
     "output_type": "execute_result"
    }
   ],
   "source": [
    "df_finance.columns"
   ]
  },
  {
   "cell_type": "code",
   "execution_count": 72,
   "metadata": {},
   "outputs": [
    {
     "name": "stdout",
     "output_type": "stream",
     "text": [
      "                            OLS Regression Results                            \n",
      "==============================================================================\n",
      "Dep. Variable:         กระทรวงการคลัง   R-squared:                       0.935\n",
      "Model:                            OLS   Adj. R-squared:                  0.741\n",
      "Method:                 Least Squares   F-statistic:                     4.805\n",
      "Date:                Tue, 08 Mar 2022   Prob (F-statistic):              0.182\n",
      "Time:                        18:52:29   Log-Likelihood:                -91.543\n",
      "No. Observations:                   9   AIC:                             197.1\n",
      "Df Residuals:                       2   BIC:                             198.5\n",
      "Df Model:                           6                                         \n",
      "Covariance Type:            nonrobust                                         \n",
      "====================================================================================\n",
      "                       coef    std err          t      P>|t|      [0.025      0.975]\n",
      "------------------------------------------------------------------------------------\n",
      "เงินคงคลัง          -0.1000      0.067     -1.491      0.274      -0.388       0.188\n",
      "ตราสารหนี้          -0.2454      0.252     -0.975      0.432      -1.328       0.837\n",
      "พันธบัตร             0.2352      0.246      0.957      0.440      -0.823       1.293\n",
      "ตั๋วสัญญาใช้เงิน     0.2740      0.149      1.834      0.208      -0.369       0.917\n",
      "เงินกู้ยืม           0.4819      0.271      1.779      0.217      -0.683       1.647\n",
      "อื่นๆ              -26.6610     30.037     -0.888      0.468    -155.898     102.576\n",
      "const             7.666e+05   6.67e+05      1.149      0.369    -2.1e+06    3.64e+06\n",
      "==============================================================================\n",
      "Omnibus:                        1.534   Durbin-Watson:                   2.519\n",
      "Prob(Omnibus):                  0.464   Jarque-Bera (JB):                0.813\n",
      "Skew:                           0.328   Prob(JB):                        0.666\n",
      "Kurtosis:                       1.682   Cond. No.                     9.51e+08\n",
      "==============================================================================\n",
      "\n",
      "Notes:\n",
      "[1] Standard Errors assume that the covariance matrix of the errors is correctly specified.\n",
      "[2] The condition number is large, 9.51e+08. This might indicate that there are\n",
      "strong multicollinearity or other numerical problems.\n"
     ]
    },
    {
     "name": "stderr",
     "output_type": "stream",
     "text": [
      "C:\\Users\\sinta\\anaconda3\\lib\\site-packages\\scipy\\stats\\stats.py:1603: UserWarning: kurtosistest only valid for n>=20 ... continuing anyway, n=9\n",
      "  warnings.warn(\"kurtosistest only valid for n>=20 ... continuing \"\n"
     ]
    }
   ],
   "source": [
    "X = df_finance[['เงินคงคลัง','ตราสารหนี้','พันธบัตร','ตั๋วสัญญาใช้เงิน', 'เงินกู้ยืม', 'อื่นๆ']]\n",
    "X = sm.add_constant(X, prepend=False)\n",
    "model = sm.OLS(df_finance[['กระทรวงการคลัง']], X)\n",
    "results = model.fit()\n",
    "print(results.summary())"
   ]
  },
  {
   "cell_type": "code",
   "execution_count": 73,
   "metadata": {},
   "outputs": [
    {
     "name": "stdout",
     "output_type": "stream",
     "text": [
      "                            OLS Regression Results                            \n",
      "==============================================================================\n",
      "Dep. Variable:         กระทรวงการคลัง   R-squared:                       0.894\n",
      "Model:                            OLS   Adj. R-squared:                  0.830\n",
      "Method:                 Least Squares   F-statistic:                     14.05\n",
      "Date:                Tue, 08 Mar 2022   Prob (F-statistic):            0.00717\n",
      "Time:                        18:52:29   Log-Likelihood:                -93.755\n",
      "No. Observations:                   9   AIC:                             195.5\n",
      "Df Residuals:                       5   BIC:                             196.3\n",
      "Df Model:                           3                                         \n",
      "Covariance Type:            nonrobust                                         \n",
      "====================================================================================\n",
      "                       coef    std err          t      P>|t|      [0.025      0.975]\n",
      "------------------------------------------------------------------------------------\n",
      "เงินคงคลัง          -0.1157      0.045     -2.558      0.051      -0.232       0.001\n",
      "ตั๋วสัญญาใช้เงิน     0.1198      0.038      3.123      0.026       0.021       0.218\n",
      "เงินกู้ยืม           0.2478      0.113      2.197      0.079      -0.042       0.538\n",
      "const             1.675e+05   1.36e+04     12.306      0.000    1.33e+05    2.02e+05\n",
      "==============================================================================\n",
      "Omnibus:                        0.093   Durbin-Watson:                   2.406\n",
      "Prob(Omnibus):                  0.954   Jarque-Bera (JB):                0.282\n",
      "Skew:                           0.161   Prob(JB):                        0.868\n",
      "Kurtosis:                       2.194   Cond. No.                     2.14e+06\n",
      "==============================================================================\n",
      "\n",
      "Notes:\n",
      "[1] Standard Errors assume that the covariance matrix of the errors is correctly specified.\n",
      "[2] The condition number is large, 2.14e+06. This might indicate that there are\n",
      "strong multicollinearity or other numerical problems.\n"
     ]
    },
    {
     "name": "stderr",
     "output_type": "stream",
     "text": [
      "C:\\Users\\sinta\\anaconda3\\lib\\site-packages\\scipy\\stats\\stats.py:1603: UserWarning: kurtosistest only valid for n>=20 ... continuing anyway, n=9\n",
      "  warnings.warn(\"kurtosistest only valid for n>=20 ... continuing \"\n"
     ]
    }
   ],
   "source": [
    "X = df_finance[['เงินคงคลัง','ตั๋วสัญญาใช้เงิน', 'เงินกู้ยืม']]\n",
    "X = sm.add_constant(X, prepend=False)\n",
    "model = sm.OLS(df_finance[['กระทรวงการคลัง']], X)\n",
    "results = model.fit()\n",
    "print(results.summary())"
   ]
  },
  {
   "cell_type": "code",
   "execution_count": null,
   "metadata": {},
   "outputs": [],
   "source": []
  }
 ],
 "metadata": {
  "kernelspec": {
   "display_name": "Python 3",
   "language": "python",
   "name": "python3"
  },
  "language_info": {
   "codemirror_mode": {
    "name": "ipython",
    "version": 3
   },
   "file_extension": ".py",
   "mimetype": "text/x-python",
   "name": "python",
   "nbconvert_exporter": "python",
   "pygments_lexer": "ipython3",
   "version": "3.8.5"
  }
 },
 "nbformat": 4,
 "nbformat_minor": 4
}
